{
 "cells": [
  {
   "cell_type": "code",
   "execution_count": 1,
   "metadata": {
    "ExecuteTime": {
     "end_time": "2021-04-15T05:03:37.937738Z",
     "start_time": "2021-04-15T05:03:37.189826Z"
    }
   },
   "outputs": [],
   "source": [
    "from collections import Counter, defaultdict\n",
    "\n",
    "from plotly.subplots import make_subplots\n",
    "import plotly.graph_objects as go\n",
    "import plotly\n",
    "import numpy as np\n",
    "import pandas as pd\n",
    "import os\n",
    "import sys\n",
    "\n",
    "import matplotlib.pyplot as plt"
   ]
  },
  {
   "cell_type": "code",
   "execution_count": 6,
   "metadata": {
    "ExecuteTime": {
     "end_time": "2021-04-15T05:05:49.449515Z",
     "start_time": "2021-04-15T05:05:49.443636Z"
    }
   },
   "outputs": [
    {
     "data": {
      "text/plain": [
       "['wrn_D16_W16_FGSM',\n",
       " 'wrn_D16_W4_FAB',\n",
       " 'wrn_D16_W8_PGD',\n",
       " 'wrn_D16_W1_PGD',\n",
       " 'wrn_D16_W2_FGSM',\n",
       " 'wrn_D16_W16_PGD',\n",
       " 'wrn_D16_W2_FAB',\n",
       " 'wrn_D16_W4_FGSM',\n",
       " 'wrn_D16_W4_PGD',\n",
       " 'wrn_D16_W8_FAB',\n",
       " 'wrn_D16_W1_FAB',\n",
       " 'wrn_D16_W8_FGSM',\n",
       " 'wrn_D16_W2_PGD',\n",
       " 'wrn_D16_W16_FAB',\n",
       " 'wrn_D16_W1_FGSM']"
      ]
     },
     "execution_count": 6,
     "metadata": {},
     "output_type": "execute_result"
    }
   ],
   "source": [
    "root_dir = '/h/zycluke/Project/adversarial_attack/checkpoint/exp_4_10/emnist'\n",
    "os.listdir(root_dir)"
   ]
  },
  {
   "cell_type": "code",
   "execution_count": 63,
   "metadata": {
    "ExecuteTime": {
     "end_time": "2021-04-15T05:55:07.673434Z",
     "start_time": "2021-04-15T05:55:07.662581Z"
    }
   },
   "outputs": [],
   "source": [
    "line_config = {\n",
    "    'rtest_acc-0.001': dict(name='Attack-0.001', type=\"scatter\", mode='lines+markers',\n",
    "                            line=dict(color='rgb(31, 119, 180)', dash='solid'),\n",
    "                            marker=dict(color='rgb(31, 119, 180)', symbol='square', size=8)),\n",
    "    'rtest_acc-0.01': dict(name='Attack-0.01', type=\"scatter\", mode='lines+markers',\n",
    "                           line=dict(color='rgb(227, 119, 194)', dash='solid'),\n",
    "                           marker=dict(color='rgb(227, 119, 194)', symbol='diamond', size=8)),\n",
    "    'rtest_acc-0.03': dict(name='Attack-0.03', type=\"scatter\", mode='lines+markers',\n",
    "                           line=dict(color='rgb(44, 160, 44)', dash='solid'),\n",
    "                           marker=dict(color='rgb(44, 160, 44)', symbol='x', size=8)),\n",
    "    'rtest_acc-0.1': dict(name='Attack-0.1', type=\"scatter\", mode='lines+markers',\n",
    "                          line=dict(color='rgb(148, 103, 189)', dash='solid'),\n",
    "                          marker=dict(color='rgb(148, 103, 189)', symbol='circle', size=8)),\n",
    "    'rtest_acc-0.3': dict(name='Attack-0.3', type=\"scatter\", mode='lines+markers',\n",
    "                          line=dict(color='rgb(255, 127, 14)', dash='solid'),\n",
    "                          marker=dict(color='rgb(255, 127, 14)', symbol='cross', size=8)),\n",
    "    'rtest_acc-0.7': dict(name='Attack-0.7', type=\"scatter\", mode='lines+markers',\n",
    "                          line=dict(color='rgb(140, 86, 75)', dash='solid'),\n",
    "                          marker=dict(color='rgb(140, 86, 75)', symbol='hexagon', size=8)),\n",
    "    'Train Acc.': dict(name='Train-acc', type=\"scatter\", mode='lines+markers',\n",
    "                       line=dict(color='rgb(8, 191, 194)', dash='solid'),\n",
    "                       marker=dict(color='rgb(8, 191, 194)', symbol='star-triangle-up', size=8)),\n",
    "    'Valid Acc.': dict(name='Attack-0.0', type=\"scatter\", mode='lines+markers', line=dict(color='rgb(214, 39, 40)', dash='solid'),\n",
    "                        marker=dict(color='rgb(214, 39, 40)', symbol='star', size=8)),\n",
    "}"
   ]
  },
  {
   "cell_type": "code",
   "execution_count": 55,
   "metadata": {
    "ExecuteTime": {
     "end_time": "2021-04-15T05:53:07.654114Z",
     "start_time": "2021-04-15T05:53:07.646587Z"
    }
   },
   "outputs": [],
   "source": [
    "def get_data_uncertainty(data_list, use_median=False, use_max=False, scale=False):\n",
    "    '''\n",
    "    Get data uncertainty for shaded traces.\n",
    "\n",
    "    Parameters\n",
    "    ----------\n",
    "    data_list: :py:class:`list` of :py:class:`list`\n",
    "        The y values for several predictors.\n",
    "    use_median: :py:class:`bool`\n",
    "        Use Mean or Median. Default to Mean.\n",
    "    use_max: :py:class:`bool`\n",
    "        Use Standard Deviation or Max and Min Value. Default to Standard Deviation.\n",
    "\n",
    "    Returns\n",
    "    -------\n",
    "\n",
    "    '''\n",
    "    y = []\n",
    "    y_err = []\n",
    "    high = []\n",
    "    low = []\n",
    "    for data in data_list:\n",
    "        if scale:\n",
    "            data = np.array(data) * 100\n",
    "        if use_median:\n",
    "            mean = np.nanmedian(data)\n",
    "        else:\n",
    "            mean = np.nanmean(data)\n",
    "        y.append(mean)\n",
    "\n",
    "        if use_max:\n",
    "            up = np.nanmax(data)\n",
    "            down = np.nanmin(data)\n",
    "            y_err.append((up - down) / 2)\n",
    "            high.append(up)\n",
    "            low.append(down)\n",
    "        else:\n",
    "            std = np.nanstd(data)\n",
    "            y_err.append(std)\n",
    "            high.append(mean + std)\n",
    "            low.append(mean - std)\n",
    "\n",
    "    low = low[::-1]\n",
    "    return y, y_err, high, low"
   ]
  },
  {
   "cell_type": "code",
   "execution_count": 54,
   "metadata": {
    "ExecuteTime": {
     "end_time": "2021-04-15T05:53:05.210764Z",
     "start_time": "2021-04-15T05:53:05.202734Z"
    }
   },
   "outputs": [],
   "source": [
    "def get_line_trace(x, y_list, name, showlegend=True):\n",
    "    config = line_config[name]\n",
    "\n",
    "    x_rev = x[::-1]\n",
    "    y, y_err, high, low = get_data_uncertainty(y_list)\n",
    "\n",
    "    traces = [\n",
    "        dict(\n",
    "            x=x,\n",
    "            y=y,\n",
    "            type=config['type'],\n",
    "            line=config['line'],\n",
    "            name=config['name'],\n",
    "            #                 legendgroup = config['name'],\n",
    "            showlegend=showlegend,\n",
    "            text=['{0:.3f}±{1:.3f}'.format(a, b)\n",
    "                  for a, b in zip(y, y_err)],\n",
    "            marker=config['marker'],\n",
    "        ),\n",
    "        dict(\n",
    "            x=x + x_rev,\n",
    "            y=high + low,\n",
    "            type=config['type'],\n",
    "            line=dict(color='rgba(255,255,255,0)'),\n",
    "            name=config['name'] + '_fill',\n",
    "            #                 legendgroup = config['name'],\n",
    "            hoverinfo='skip',\n",
    "            fill='toself',\n",
    "            fillcolor=config['line']['color'].replace('rgb', 'rgba').replace(')', ',0.2)'),\n",
    "            showlegend=False,\n",
    "        ),\n",
    "    ]\n",
    "\n",
    "    return traces"
   ]
  },
  {
   "cell_type": "markdown",
   "metadata": {},
   "source": [
    "# PGD"
   ]
  },
  {
   "cell_type": "code",
   "execution_count": 50,
   "metadata": {
    "ExecuteTime": {
     "end_time": "2021-04-15T05:41:01.522212Z",
     "start_time": "2021-04-15T05:41:01.518160Z"
    }
   },
   "outputs": [],
   "source": [
    "def get_res_seed(exp_dir):\n",
    "    df = pd.read_csv('{}/{}'.format(exp_dir,'train_result.csv'))\n",
    "    col_acc = [name for name in df.columns if 'cc' in name and 'topk' not in name]\n",
    "    acc_dict = df[col_acc].iloc[-1,:].to_dict()\n",
    "    return acc_dict"
   ]
  },
  {
   "cell_type": "code",
   "execution_count": 42,
   "metadata": {
    "ExecuteTime": {
     "end_time": "2021-04-15T05:33:44.568169Z",
     "start_time": "2021-04-15T05:33:44.564009Z"
    }
   },
   "outputs": [],
   "source": [
    "def get_res_seeds(exp_dir):\n",
    "    res = defaultdict(list)\n",
    "    for seed in os.listdir(exp_dir):\n",
    "        res_seed = get_res_seed('{}/{}'.format(exp_dir,seed))\n",
    "        for k,v in res_seed.items():\n",
    "            res[k].append(v)\n",
    "    return res"
   ]
  },
  {
   "cell_type": "code",
   "execution_count": 43,
   "metadata": {
    "ExecuteTime": {
     "end_time": "2021-04-15T05:34:33.929065Z",
     "start_time": "2021-04-15T05:34:33.922071Z"
    }
   },
   "outputs": [],
   "source": [
    "def get_res_method(root_dir, name='PGD'):\n",
    "    model_sizes = [1,2,4,8,16]\n",
    "    res = defaultdict(list)\n",
    "    for size in model_sizes:\n",
    "        exp_dir = '{}/{}'.format(root_dir,'wrn_D16_W{}_{}'.format(size,name))\n",
    "        res_model = get_res_seeds(exp_dir)\n",
    "        for k,v in res_model.items():\n",
    "            res[k].append(v)\n",
    "    return res\n",
    "    "
   ]
  },
  {
   "cell_type": "code",
   "execution_count": 84,
   "metadata": {
    "ExecuteTime": {
     "end_time": "2021-04-15T06:06:40.636994Z",
     "start_time": "2021-04-15T06:06:40.625471Z"
    }
   },
   "outputs": [],
   "source": [
    "def plot_res(root_dir, attack_method='PGD'):\n",
    "    fig = make_subplots(rows=1, cols=1, subplot_titles=[attack_method])\n",
    "    res = get_res_method(root_dir, name=attack_method)\n",
    "    for k, v in res.items():\n",
    "        if 'Acc' in k :\n",
    "            continue\n",
    "        traces = get_line_trace([1,2,4,8],res[k],name=k,showlegend=True)\n",
    "        for trace in traces:\n",
    "            fig.add_trace(trace, row=1, col=1)\n",
    "\n",
    "    xaxis_layout = dict(\n",
    "            title='Model Size',\n",
    "            showgrid=True,\n",
    "            showline=True,\n",
    "            mirror=True,\n",
    "            tickmode='array',\n",
    "            ticks='outside',\n",
    "            tickfont=dict(size=18),\n",
    "            linecolor='rgba(0,0,0,1)',\n",
    "            gridcolor='rgba(0,0,0,0.1)',\n",
    "            showticklabels=True,\n",
    "            titlefont=dict(size=20))\n",
    "\n",
    "    yaxis_layout = dict(\n",
    "        title='Test Accuracy',\n",
    "        showgrid=True,\n",
    "        showline=True,\n",
    "        mirror=True,\n",
    "        tickmode='array',\n",
    "        ticks='outside',\n",
    "        tickfont=dict(size=18),\n",
    "#         tickvals=[10 * i for i in range(11)],\n",
    "        linecolor='rgba(0,0,0,1)',\n",
    "        gridcolor='rgba(0,0,0,0.1)',\n",
    "        showticklabels=True,\n",
    "        titlefont=dict(size=20))\n",
    "\n",
    "    fig['layout']['xaxis'].update(xaxis_layout)\n",
    "    fig['layout']['yaxis'].update(yaxis_layout)\n",
    "\n",
    "    fig.update_layout(\n",
    "            autosize=False,\n",
    "            width=450,\n",
    "            height=350,\n",
    "            legend=dict(\n",
    "                bgcolor='rgba(255,255,255,0.5)',\n",
    "                bordercolor='rgba(0,0,0,0.2)',\n",
    "                borderwidth=1,\n",
    "                font=dict(size=13),\n",
    "                yanchor=\"top\",\n",
    "                y=0.96,\n",
    "                xanchor=\"right\",\n",
    "                x=0.96,\n",
    "            ),\n",
    "            paper_bgcolor='rgba(0,0,0,0)',\n",
    "            plot_bgcolor='rgba(255,255,255,0)',\n",
    "            margin=dict(l=0, r=0, t=25, b=0),\n",
    "            font=dict(family=\"Times\")\n",
    "        )\n",
    "\n",
    "    fig.show()"
   ]
  },
  {
   "cell_type": "code",
   "execution_count": 85,
   "metadata": {
    "ExecuteTime": {
     "end_time": "2021-04-15T06:06:42.738498Z",
     "start_time": "2021-04-15T06:06:42.630911Z"
    }
   },
   "outputs": [
    {
     "name": "stderr",
     "output_type": "stream",
     "text": [
      "/h/zycluke/miniconda3/envs/al/lib/python3.7/site-packages/ipykernel_launcher.py:28: RuntimeWarning:\n",
      "\n",
      "Mean of empty slice\n",
      "\n",
      "/h/zycluke/miniconda3/envs/al/lib/python3.7/site-packages/numpy/lib/nanfunctions.py:1667: RuntimeWarning:\n",
      "\n",
      "Degrees of freedom <= 0 for slice.\n",
      "\n"
     ]
    },
    {
     "data": {
      "application/vnd.plotly.v1+json": {
       "config": {
        "plotlyServerURL": "https://plot.ly"
       },
       "data": [
        {
         "line": {
          "color": "rgb(148, 103, 189)",
          "dash": "solid"
         },
         "marker": {
          "color": "rgb(148, 103, 189)",
          "size": 8,
          "symbol": "circle"
         },
         "name": "Attack-0.1",
         "showlegend": true,
         "text": [
          "4.272±0.873",
          "1.879±1.174",
          "2.307±1.686",
          "0.078±0.067",
          "nan±nan"
         ],
         "type": "scatter",
         "x": [
          1,
          2,
          4,
          8
         ],
         "xaxis": "x",
         "y": [
          4.272299258662475,
          1.878676902527424,
          2.3073682762542957,
          0.07823044453258786,
          null
         ],
         "yaxis": "y"
        },
        {
         "fill": "toself",
         "fillcolor": "rgba(148, 103, 189,0.2)",
         "hoverinfo": "skip",
         "line": {
          "color": "rgba(255,255,255,0)"
         },
         "name": "Attack-0.1_fill",
         "showlegend": false,
         "type": "scatter",
         "x": [
          1,
          2,
          4,
          8,
          8,
          4,
          2,
          1
         ],
         "xaxis": "x",
         "y": [
          5.145275723605135,
          3.052687417820251,
          3.9931237863970557,
          0.1449573396900373,
          null,
          null,
          0.011503549375138422,
          0.6216127661115356,
          0.7046663872345966,
          3.399322793719815
         ],
         "yaxis": "y"
        },
        {
         "line": {
          "color": "rgb(255, 127, 14)",
          "dash": "solid"
         },
         "marker": {
          "color": "rgb(255, 127, 14)",
          "size": 8,
          "symbol": "cross"
         },
         "name": "Attack-0.3",
         "showlegend": true,
         "text": [
          "2.649±1.759",
          "0.225±0.238",
          "0.228±0.259",
          "0.000±0.000",
          "nan±nan"
         ],
         "type": "scatter",
         "x": [
          1,
          2,
          4,
          8
         ],
         "xaxis": "x",
         "y": [
          2.6492324533015403,
          0.22494834784751658,
          0.22781393189106383,
          0.0002865584049012949,
          null
         ],
         "yaxis": "y"
        },
        {
         "fill": "toself",
         "fillcolor": "rgba(255, 127, 14,0.2)",
         "hoverinfo": "skip",
         "line": {
          "color": "rgba(255,255,255,0)"
         },
         "name": "Attack-0.3_fill",
         "showlegend": false,
         "type": "scatter",
         "x": [
          1,
          2,
          4,
          8,
          8,
          4,
          2,
          1
         ],
         "xaxis": "x",
         "y": [
          4.408078688204706,
          0.4629240183460368,
          0.4864728565754779,
          0.000691813187524707,
          null,
          null,
          -0.00011869637772211715,
          -0.030844992793350262,
          -0.013027322651003675,
          0.8903862183983742
         ],
         "yaxis": "y"
        },
        {
         "line": {
          "color": "rgb(140, 86, 75)",
          "dash": "solid"
         },
         "marker": {
          "color": "rgb(140, 86, 75)",
          "size": 8,
          "symbol": "hexagon"
         },
         "name": "Attack-0.7",
         "showlegend": true,
         "text": [
          "0.001±0.002",
          "0.000±0.000",
          "0.000±0.000",
          "0.000±0.000",
          "nan±nan"
         ],
         "type": "scatter",
         "x": [
          1,
          2,
          4,
          8
         ],
         "xaxis": "x",
         "y": [
          0.0011462336196051799,
          0,
          0,
          0,
          null
         ],
         "yaxis": "y"
        },
        {
         "fill": "toself",
         "fillcolor": "rgba(140, 86, 75,0.2)",
         "hoverinfo": "skip",
         "line": {
          "color": "rgba(255,255,255,0)"
         },
         "name": "Attack-0.7_fill",
         "showlegend": false,
         "type": "scatter",
         "x": [
          1,
          2,
          4,
          8,
          8,
          4,
          2,
          1
         ],
         "xaxis": "x",
         "y": [
          0.002767252750098828,
          0,
          0,
          0,
          null,
          null,
          0,
          0,
          0,
          -0.0004747855108884684
         ],
         "yaxis": "y"
        },
        {
         "line": {
          "color": "rgb(227, 119, 194)",
          "dash": "solid"
         },
         "marker": {
          "color": "rgb(227, 119, 194)",
          "size": 8,
          "symbol": "diamond"
         },
         "name": "Attack-0.01",
         "showlegend": true,
         "text": [
          "5.867±0.284",
          "6.695±3.469",
          "6.540±4.210",
          "2.647±1.363",
          "nan±nan"
         ],
         "type": "scatter",
         "x": [
          1,
          2,
          4,
          8
         ],
         "xaxis": "x",
         "y": [
          5.866710223516883,
          6.694577455287656,
          6.539835916635492,
          2.6472265444563003,
          null
         ],
         "yaxis": "y"
        },
        {
         "fill": "toself",
         "fillcolor": "rgba(227, 119, 194,0.2)",
         "hoverinfo": "skip",
         "line": {
          "color": "rgba(255,255,255,0)"
         },
         "name": "Attack-0.01_fill",
         "showlegend": false,
         "type": "scatter",
         "x": [
          1,
          2,
          4,
          8,
          8,
          4,
          2,
          1
         ],
         "xaxis": "x",
         "y": [
          6.150321696418959,
          10.163817657966481,
          10.750262909330136,
          4.010208876060154,
          null,
          null,
          1.2842442128524467,
          2.329408923940849,
          3.225337252608831,
          5.583098750614806
         ],
         "yaxis": "y"
        },
        {
         "line": {
          "color": "rgb(44, 160, 44)",
          "dash": "solid"
         },
         "marker": {
          "color": "rgb(44, 160, 44)",
          "size": 8,
          "symbol": "x"
         },
         "name": "Attack-0.03",
         "showlegend": true,
         "text": [
          "5.431±0.332",
          "4.844±2.587",
          "5.156±3.405",
          "1.248±0.847",
          "nan±nan"
         ],
         "type": "scatter",
         "x": [
          1,
          2,
          4,
          8
         ],
         "xaxis": "x",
         "y": [
          5.430854889672946,
          4.843983276440558,
          5.1563319377720385,
          1.2476752949238412,
          null
         ],
         "yaxis": "y"
        },
        {
         "fill": "toself",
         "fillcolor": "rgba(44, 160, 44,0.2)",
         "hoverinfo": "skip",
         "line": {
          "color": "rgba(255,255,255,0)"
         },
         "name": "Attack-0.03_fill",
         "showlegend": false,
         "type": "scatter",
         "x": [
          1,
          2,
          4,
          8,
          8,
          4,
          2,
          1
         ],
         "xaxis": "x",
         "y": [
          5.762743216966668,
          7.430891589943034,
          8.561302276303467,
          2.0944486416728436,
          null,
          null,
          0.40090194817483893,
          1.7513615992406102,
          2.257074962938082,
          5.098966562379224
         ],
         "yaxis": "y"
        },
        {
         "line": {
          "color": "rgb(31, 119, 180)",
          "dash": "solid"
         },
         "marker": {
          "color": "rgb(31, 119, 180)",
          "size": 8,
          "symbol": "square"
         },
         "name": "Attack-0.001",
         "showlegend": true,
         "text": [
          "6.071±0.319",
          "7.689±4.006",
          "7.220±4.604",
          "3.598±1.575",
          "nan±nan"
         ],
         "type": "scatter",
         "x": [
          1,
          2,
          4,
          8
         ],
         "xaxis": "x",
         "y": [
          6.071026366211506,
          7.688935120289682,
          7.2204121282706,
          3.598027331913331,
          null
         ],
         "yaxis": "y"
        },
        {
         "fill": "toself",
         "fillcolor": "rgba(31, 119, 180,0.2)",
         "hoverinfo": "skip",
         "line": {
          "color": "rgba(255,255,255,0)"
         },
         "name": "Attack-0.001_fill",
         "showlegend": false,
         "type": "scatter",
         "x": [
          1,
          2,
          4,
          8,
          8,
          4,
          2,
          1
         ],
         "xaxis": "x",
         "y": [
          6.39048411280509,
          11.694608795549449,
          11.82395489606525,
          5.173160869234662,
          null,
          null,
          2.0228937945919996,
          2.61686936047595,
          3.683261445029914,
          5.751568619617922
         ],
         "yaxis": "y"
        }
       ],
       "layout": {
        "annotations": [
         {
          "font": {
           "size": 16
          },
          "showarrow": false,
          "text": "PGD",
          "x": 0.5,
          "xanchor": "center",
          "xref": "paper",
          "y": 1,
          "yanchor": "bottom",
          "yref": "paper"
         }
        ],
        "autosize": false,
        "font": {
         "family": "Times"
        },
        "height": 350,
        "legend": {
         "bgcolor": "rgba(255,255,255,0.5)",
         "bordercolor": "rgba(0,0,0,0.2)",
         "borderwidth": 1,
         "font": {
          "size": 13
         },
         "x": 0.96,
         "xanchor": "right",
         "y": 0.96,
         "yanchor": "top"
        },
        "margin": {
         "b": 0,
         "l": 0,
         "r": 0,
         "t": 25
        },
        "paper_bgcolor": "rgba(0,0,0,0)",
        "plot_bgcolor": "rgba(255,255,255,0)",
        "template": {
         "data": {
          "bar": [
           {
            "error_x": {
             "color": "#2a3f5f"
            },
            "error_y": {
             "color": "#2a3f5f"
            },
            "marker": {
             "line": {
              "color": "#E5ECF6",
              "width": 0.5
             }
            },
            "type": "bar"
           }
          ],
          "barpolar": [
           {
            "marker": {
             "line": {
              "color": "#E5ECF6",
              "width": 0.5
             }
            },
            "type": "barpolar"
           }
          ],
          "carpet": [
           {
            "aaxis": {
             "endlinecolor": "#2a3f5f",
             "gridcolor": "white",
             "linecolor": "white",
             "minorgridcolor": "white",
             "startlinecolor": "#2a3f5f"
            },
            "baxis": {
             "endlinecolor": "#2a3f5f",
             "gridcolor": "white",
             "linecolor": "white",
             "minorgridcolor": "white",
             "startlinecolor": "#2a3f5f"
            },
            "type": "carpet"
           }
          ],
          "choropleth": [
           {
            "colorbar": {
             "outlinewidth": 0,
             "ticks": ""
            },
            "type": "choropleth"
           }
          ],
          "contour": [
           {
            "colorbar": {
             "outlinewidth": 0,
             "ticks": ""
            },
            "colorscale": [
             [
              0,
              "#0d0887"
             ],
             [
              0.1111111111111111,
              "#46039f"
             ],
             [
              0.2222222222222222,
              "#7201a8"
             ],
             [
              0.3333333333333333,
              "#9c179e"
             ],
             [
              0.4444444444444444,
              "#bd3786"
             ],
             [
              0.5555555555555556,
              "#d8576b"
             ],
             [
              0.6666666666666666,
              "#ed7953"
             ],
             [
              0.7777777777777778,
              "#fb9f3a"
             ],
             [
              0.8888888888888888,
              "#fdca26"
             ],
             [
              1,
              "#f0f921"
             ]
            ],
            "type": "contour"
           }
          ],
          "contourcarpet": [
           {
            "colorbar": {
             "outlinewidth": 0,
             "ticks": ""
            },
            "type": "contourcarpet"
           }
          ],
          "heatmap": [
           {
            "colorbar": {
             "outlinewidth": 0,
             "ticks": ""
            },
            "colorscale": [
             [
              0,
              "#0d0887"
             ],
             [
              0.1111111111111111,
              "#46039f"
             ],
             [
              0.2222222222222222,
              "#7201a8"
             ],
             [
              0.3333333333333333,
              "#9c179e"
             ],
             [
              0.4444444444444444,
              "#bd3786"
             ],
             [
              0.5555555555555556,
              "#d8576b"
             ],
             [
              0.6666666666666666,
              "#ed7953"
             ],
             [
              0.7777777777777778,
              "#fb9f3a"
             ],
             [
              0.8888888888888888,
              "#fdca26"
             ],
             [
              1,
              "#f0f921"
             ]
            ],
            "type": "heatmap"
           }
          ],
          "heatmapgl": [
           {
            "colorbar": {
             "outlinewidth": 0,
             "ticks": ""
            },
            "colorscale": [
             [
              0,
              "#0d0887"
             ],
             [
              0.1111111111111111,
              "#46039f"
             ],
             [
              0.2222222222222222,
              "#7201a8"
             ],
             [
              0.3333333333333333,
              "#9c179e"
             ],
             [
              0.4444444444444444,
              "#bd3786"
             ],
             [
              0.5555555555555556,
              "#d8576b"
             ],
             [
              0.6666666666666666,
              "#ed7953"
             ],
             [
              0.7777777777777778,
              "#fb9f3a"
             ],
             [
              0.8888888888888888,
              "#fdca26"
             ],
             [
              1,
              "#f0f921"
             ]
            ],
            "type": "heatmapgl"
           }
          ],
          "histogram": [
           {
            "marker": {
             "colorbar": {
              "outlinewidth": 0,
              "ticks": ""
             }
            },
            "type": "histogram"
           }
          ],
          "histogram2d": [
           {
            "colorbar": {
             "outlinewidth": 0,
             "ticks": ""
            },
            "colorscale": [
             [
              0,
              "#0d0887"
             ],
             [
              0.1111111111111111,
              "#46039f"
             ],
             [
              0.2222222222222222,
              "#7201a8"
             ],
             [
              0.3333333333333333,
              "#9c179e"
             ],
             [
              0.4444444444444444,
              "#bd3786"
             ],
             [
              0.5555555555555556,
              "#d8576b"
             ],
             [
              0.6666666666666666,
              "#ed7953"
             ],
             [
              0.7777777777777778,
              "#fb9f3a"
             ],
             [
              0.8888888888888888,
              "#fdca26"
             ],
             [
              1,
              "#f0f921"
             ]
            ],
            "type": "histogram2d"
           }
          ],
          "histogram2dcontour": [
           {
            "colorbar": {
             "outlinewidth": 0,
             "ticks": ""
            },
            "colorscale": [
             [
              0,
              "#0d0887"
             ],
             [
              0.1111111111111111,
              "#46039f"
             ],
             [
              0.2222222222222222,
              "#7201a8"
             ],
             [
              0.3333333333333333,
              "#9c179e"
             ],
             [
              0.4444444444444444,
              "#bd3786"
             ],
             [
              0.5555555555555556,
              "#d8576b"
             ],
             [
              0.6666666666666666,
              "#ed7953"
             ],
             [
              0.7777777777777778,
              "#fb9f3a"
             ],
             [
              0.8888888888888888,
              "#fdca26"
             ],
             [
              1,
              "#f0f921"
             ]
            ],
            "type": "histogram2dcontour"
           }
          ],
          "mesh3d": [
           {
            "colorbar": {
             "outlinewidth": 0,
             "ticks": ""
            },
            "type": "mesh3d"
           }
          ],
          "parcoords": [
           {
            "line": {
             "colorbar": {
              "outlinewidth": 0,
              "ticks": ""
             }
            },
            "type": "parcoords"
           }
          ],
          "pie": [
           {
            "automargin": true,
            "type": "pie"
           }
          ],
          "scatter": [
           {
            "marker": {
             "colorbar": {
              "outlinewidth": 0,
              "ticks": ""
             }
            },
            "type": "scatter"
           }
          ],
          "scatter3d": [
           {
            "line": {
             "colorbar": {
              "outlinewidth": 0,
              "ticks": ""
             }
            },
            "marker": {
             "colorbar": {
              "outlinewidth": 0,
              "ticks": ""
             }
            },
            "type": "scatter3d"
           }
          ],
          "scattercarpet": [
           {
            "marker": {
             "colorbar": {
              "outlinewidth": 0,
              "ticks": ""
             }
            },
            "type": "scattercarpet"
           }
          ],
          "scattergeo": [
           {
            "marker": {
             "colorbar": {
              "outlinewidth": 0,
              "ticks": ""
             }
            },
            "type": "scattergeo"
           }
          ],
          "scattergl": [
           {
            "marker": {
             "colorbar": {
              "outlinewidth": 0,
              "ticks": ""
             }
            },
            "type": "scattergl"
           }
          ],
          "scattermapbox": [
           {
            "marker": {
             "colorbar": {
              "outlinewidth": 0,
              "ticks": ""
             }
            },
            "type": "scattermapbox"
           }
          ],
          "scatterpolar": [
           {
            "marker": {
             "colorbar": {
              "outlinewidth": 0,
              "ticks": ""
             }
            },
            "type": "scatterpolar"
           }
          ],
          "scatterpolargl": [
           {
            "marker": {
             "colorbar": {
              "outlinewidth": 0,
              "ticks": ""
             }
            },
            "type": "scatterpolargl"
           }
          ],
          "scatterternary": [
           {
            "marker": {
             "colorbar": {
              "outlinewidth": 0,
              "ticks": ""
             }
            },
            "type": "scatterternary"
           }
          ],
          "surface": [
           {
            "colorbar": {
             "outlinewidth": 0,
             "ticks": ""
            },
            "colorscale": [
             [
              0,
              "#0d0887"
             ],
             [
              0.1111111111111111,
              "#46039f"
             ],
             [
              0.2222222222222222,
              "#7201a8"
             ],
             [
              0.3333333333333333,
              "#9c179e"
             ],
             [
              0.4444444444444444,
              "#bd3786"
             ],
             [
              0.5555555555555556,
              "#d8576b"
             ],
             [
              0.6666666666666666,
              "#ed7953"
             ],
             [
              0.7777777777777778,
              "#fb9f3a"
             ],
             [
              0.8888888888888888,
              "#fdca26"
             ],
             [
              1,
              "#f0f921"
             ]
            ],
            "type": "surface"
           }
          ],
          "table": [
           {
            "cells": {
             "fill": {
              "color": "#EBF0F8"
             },
             "line": {
              "color": "white"
             }
            },
            "header": {
             "fill": {
              "color": "#C8D4E3"
             },
             "line": {
              "color": "white"
             }
            },
            "type": "table"
           }
          ]
         },
         "layout": {
          "annotationdefaults": {
           "arrowcolor": "#2a3f5f",
           "arrowhead": 0,
           "arrowwidth": 1
          },
          "coloraxis": {
           "colorbar": {
            "outlinewidth": 0,
            "ticks": ""
           }
          },
          "colorscale": {
           "diverging": [
            [
             0,
             "#8e0152"
            ],
            [
             0.1,
             "#c51b7d"
            ],
            [
             0.2,
             "#de77ae"
            ],
            [
             0.3,
             "#f1b6da"
            ],
            [
             0.4,
             "#fde0ef"
            ],
            [
             0.5,
             "#f7f7f7"
            ],
            [
             0.6,
             "#e6f5d0"
            ],
            [
             0.7,
             "#b8e186"
            ],
            [
             0.8,
             "#7fbc41"
            ],
            [
             0.9,
             "#4d9221"
            ],
            [
             1,
             "#276419"
            ]
           ],
           "sequential": [
            [
             0,
             "#0d0887"
            ],
            [
             0.1111111111111111,
             "#46039f"
            ],
            [
             0.2222222222222222,
             "#7201a8"
            ],
            [
             0.3333333333333333,
             "#9c179e"
            ],
            [
             0.4444444444444444,
             "#bd3786"
            ],
            [
             0.5555555555555556,
             "#d8576b"
            ],
            [
             0.6666666666666666,
             "#ed7953"
            ],
            [
             0.7777777777777778,
             "#fb9f3a"
            ],
            [
             0.8888888888888888,
             "#fdca26"
            ],
            [
             1,
             "#f0f921"
            ]
           ],
           "sequentialminus": [
            [
             0,
             "#0d0887"
            ],
            [
             0.1111111111111111,
             "#46039f"
            ],
            [
             0.2222222222222222,
             "#7201a8"
            ],
            [
             0.3333333333333333,
             "#9c179e"
            ],
            [
             0.4444444444444444,
             "#bd3786"
            ],
            [
             0.5555555555555556,
             "#d8576b"
            ],
            [
             0.6666666666666666,
             "#ed7953"
            ],
            [
             0.7777777777777778,
             "#fb9f3a"
            ],
            [
             0.8888888888888888,
             "#fdca26"
            ],
            [
             1,
             "#f0f921"
            ]
           ]
          },
          "colorway": [
           "#636efa",
           "#EF553B",
           "#00cc96",
           "#ab63fa",
           "#FFA15A",
           "#19d3f3",
           "#FF6692",
           "#B6E880",
           "#FF97FF",
           "#FECB52"
          ],
          "font": {
           "color": "#2a3f5f"
          },
          "geo": {
           "bgcolor": "white",
           "lakecolor": "white",
           "landcolor": "#E5ECF6",
           "showlakes": true,
           "showland": true,
           "subunitcolor": "white"
          },
          "hoverlabel": {
           "align": "left"
          },
          "hovermode": "closest",
          "mapbox": {
           "style": "light"
          },
          "paper_bgcolor": "white",
          "plot_bgcolor": "#E5ECF6",
          "polar": {
           "angularaxis": {
            "gridcolor": "white",
            "linecolor": "white",
            "ticks": ""
           },
           "bgcolor": "#E5ECF6",
           "radialaxis": {
            "gridcolor": "white",
            "linecolor": "white",
            "ticks": ""
           }
          },
          "scene": {
           "xaxis": {
            "backgroundcolor": "#E5ECF6",
            "gridcolor": "white",
            "gridwidth": 2,
            "linecolor": "white",
            "showbackground": true,
            "ticks": "",
            "zerolinecolor": "white"
           },
           "yaxis": {
            "backgroundcolor": "#E5ECF6",
            "gridcolor": "white",
            "gridwidth": 2,
            "linecolor": "white",
            "showbackground": true,
            "ticks": "",
            "zerolinecolor": "white"
           },
           "zaxis": {
            "backgroundcolor": "#E5ECF6",
            "gridcolor": "white",
            "gridwidth": 2,
            "linecolor": "white",
            "showbackground": true,
            "ticks": "",
            "zerolinecolor": "white"
           }
          },
          "shapedefaults": {
           "line": {
            "color": "#2a3f5f"
           }
          },
          "ternary": {
           "aaxis": {
            "gridcolor": "white",
            "linecolor": "white",
            "ticks": ""
           },
           "baxis": {
            "gridcolor": "white",
            "linecolor": "white",
            "ticks": ""
           },
           "bgcolor": "#E5ECF6",
           "caxis": {
            "gridcolor": "white",
            "linecolor": "white",
            "ticks": ""
           }
          },
          "title": {
           "x": 0.05
          },
          "xaxis": {
           "automargin": true,
           "gridcolor": "white",
           "linecolor": "white",
           "ticks": "",
           "title": {
            "standoff": 15
           },
           "zerolinecolor": "white",
           "zerolinewidth": 2
          },
          "yaxis": {
           "automargin": true,
           "gridcolor": "white",
           "linecolor": "white",
           "ticks": "",
           "title": {
            "standoff": 15
           },
           "zerolinecolor": "white",
           "zerolinewidth": 2
          }
         }
        },
        "width": 450,
        "xaxis": {
         "anchor": "y",
         "domain": [
          0,
          1
         ],
         "gridcolor": "rgba(0,0,0,0.1)",
         "linecolor": "rgba(0,0,0,1)",
         "mirror": true,
         "showgrid": true,
         "showline": true,
         "showticklabels": true,
         "tickfont": {
          "size": 18
         },
         "tickmode": "array",
         "ticks": "outside",
         "title": {
          "font": {
           "size": 20
          },
          "text": "Model Size"
         }
        },
        "yaxis": {
         "anchor": "x",
         "domain": [
          0,
          1
         ],
         "gridcolor": "rgba(0,0,0,0.1)",
         "linecolor": "rgba(0,0,0,1)",
         "mirror": true,
         "showgrid": true,
         "showline": true,
         "showticklabels": true,
         "tickfont": {
          "size": 18
         },
         "tickmode": "array",
         "ticks": "outside",
         "title": {
          "font": {
           "size": 20
          },
          "text": "Test Accuracy"
         }
        }
       }
      },
      "text/html": [
       "<div>\n",
       "        \n",
       "        \n",
       "            <div id=\"31d97f86-77ab-44c0-ac0b-f516045cb291\" class=\"plotly-graph-div\" style=\"height:350px; width:450px;\"></div>\n",
       "            <script type=\"text/javascript\">\n",
       "                require([\"plotly\"], function(Plotly) {\n",
       "                    window.PLOTLYENV=window.PLOTLYENV || {};\n",
       "                    \n",
       "                if (document.getElementById(\"31d97f86-77ab-44c0-ac0b-f516045cb291\")) {\n",
       "                    Plotly.newPlot(\n",
       "                        '31d97f86-77ab-44c0-ac0b-f516045cb291',\n",
       "                        [{\"line\": {\"color\": \"rgb(148, 103, 189)\", \"dash\": \"solid\"}, \"marker\": {\"color\": \"rgb(148, 103, 189)\", \"size\": 8, \"symbol\": \"circle\"}, \"name\": \"Attack-0.1\", \"showlegend\": true, \"text\": [\"4.272\\u00b10.873\", \"1.879\\u00b11.174\", \"2.307\\u00b11.686\", \"0.078\\u00b10.067\", \"nan\\u00b1nan\"], \"type\": \"scatter\", \"x\": [1, 2, 4, 8], \"xaxis\": \"x\", \"y\": [4.272299258662475, 1.878676902527424, 2.3073682762542957, 0.07823044453258786, null], \"yaxis\": \"y\"}, {\"fill\": \"toself\", \"fillcolor\": \"rgba(148, 103, 189,0.2)\", \"hoverinfo\": \"skip\", \"line\": {\"color\": \"rgba(255,255,255,0)\"}, \"name\": \"Attack-0.1_fill\", \"showlegend\": false, \"type\": \"scatter\", \"x\": [1, 2, 4, 8, 8, 4, 2, 1], \"xaxis\": \"x\", \"y\": [5.145275723605135, 3.052687417820251, 3.9931237863970557, 0.1449573396900373, null, null, 0.011503549375138422, 0.6216127661115356, 0.7046663872345966, 3.399322793719815], \"yaxis\": \"y\"}, {\"line\": {\"color\": \"rgb(255, 127, 14)\", \"dash\": \"solid\"}, \"marker\": {\"color\": \"rgb(255, 127, 14)\", \"size\": 8, \"symbol\": \"cross\"}, \"name\": \"Attack-0.3\", \"showlegend\": true, \"text\": [\"2.649\\u00b11.759\", \"0.225\\u00b10.238\", \"0.228\\u00b10.259\", \"0.000\\u00b10.000\", \"nan\\u00b1nan\"], \"type\": \"scatter\", \"x\": [1, 2, 4, 8], \"xaxis\": \"x\", \"y\": [2.6492324533015403, 0.22494834784751658, 0.22781393189106383, 0.0002865584049012949, null], \"yaxis\": \"y\"}, {\"fill\": \"toself\", \"fillcolor\": \"rgba(255, 127, 14,0.2)\", \"hoverinfo\": \"skip\", \"line\": {\"color\": \"rgba(255,255,255,0)\"}, \"name\": \"Attack-0.3_fill\", \"showlegend\": false, \"type\": \"scatter\", \"x\": [1, 2, 4, 8, 8, 4, 2, 1], \"xaxis\": \"x\", \"y\": [4.408078688204706, 0.4629240183460368, 0.4864728565754779, 0.000691813187524707, null, null, -0.00011869637772211715, -0.030844992793350262, -0.013027322651003675, 0.8903862183983742], \"yaxis\": \"y\"}, {\"line\": {\"color\": \"rgb(140, 86, 75)\", \"dash\": \"solid\"}, \"marker\": {\"color\": \"rgb(140, 86, 75)\", \"size\": 8, \"symbol\": \"hexagon\"}, \"name\": \"Attack-0.7\", \"showlegend\": true, \"text\": [\"0.001\\u00b10.002\", \"0.000\\u00b10.000\", \"0.000\\u00b10.000\", \"0.000\\u00b10.000\", \"nan\\u00b1nan\"], \"type\": \"scatter\", \"x\": [1, 2, 4, 8], \"xaxis\": \"x\", \"y\": [0.0011462336196051799, 0.0, 0.0, 0.0, null], \"yaxis\": \"y\"}, {\"fill\": \"toself\", \"fillcolor\": \"rgba(140, 86, 75,0.2)\", \"hoverinfo\": \"skip\", \"line\": {\"color\": \"rgba(255,255,255,0)\"}, \"name\": \"Attack-0.7_fill\", \"showlegend\": false, \"type\": \"scatter\", \"x\": [1, 2, 4, 8, 8, 4, 2, 1], \"xaxis\": \"x\", \"y\": [0.002767252750098828, 0.0, 0.0, 0.0, null, null, 0.0, 0.0, 0.0, -0.0004747855108884684], \"yaxis\": \"y\"}, {\"line\": {\"color\": \"rgb(227, 119, 194)\", \"dash\": \"solid\"}, \"marker\": {\"color\": \"rgb(227, 119, 194)\", \"size\": 8, \"symbol\": \"diamond\"}, \"name\": \"Attack-0.01\", \"showlegend\": true, \"text\": [\"5.867\\u00b10.284\", \"6.695\\u00b13.469\", \"6.540\\u00b14.210\", \"2.647\\u00b11.363\", \"nan\\u00b1nan\"], \"type\": \"scatter\", \"x\": [1, 2, 4, 8], \"xaxis\": \"x\", \"y\": [5.866710223516883, 6.694577455287656, 6.539835916635492, 2.6472265444563003, null], \"yaxis\": \"y\"}, {\"fill\": \"toself\", \"fillcolor\": \"rgba(227, 119, 194,0.2)\", \"hoverinfo\": \"skip\", \"line\": {\"color\": \"rgba(255,255,255,0)\"}, \"name\": \"Attack-0.01_fill\", \"showlegend\": false, \"type\": \"scatter\", \"x\": [1, 2, 4, 8, 8, 4, 2, 1], \"xaxis\": \"x\", \"y\": [6.150321696418959, 10.163817657966481, 10.750262909330136, 4.010208876060154, null, null, 1.2842442128524467, 2.329408923940849, 3.225337252608831, 5.583098750614806], \"yaxis\": \"y\"}, {\"line\": {\"color\": \"rgb(44, 160, 44)\", \"dash\": \"solid\"}, \"marker\": {\"color\": \"rgb(44, 160, 44)\", \"size\": 8, \"symbol\": \"x\"}, \"name\": \"Attack-0.03\", \"showlegend\": true, \"text\": [\"5.431\\u00b10.332\", \"4.844\\u00b12.587\", \"5.156\\u00b13.405\", \"1.248\\u00b10.847\", \"nan\\u00b1nan\"], \"type\": \"scatter\", \"x\": [1, 2, 4, 8], \"xaxis\": \"x\", \"y\": [5.430854889672946, 4.843983276440558, 5.1563319377720385, 1.2476752949238412, null], \"yaxis\": \"y\"}, {\"fill\": \"toself\", \"fillcolor\": \"rgba(44, 160, 44,0.2)\", \"hoverinfo\": \"skip\", \"line\": {\"color\": \"rgba(255,255,255,0)\"}, \"name\": \"Attack-0.03_fill\", \"showlegend\": false, \"type\": \"scatter\", \"x\": [1, 2, 4, 8, 8, 4, 2, 1], \"xaxis\": \"x\", \"y\": [5.762743216966668, 7.430891589943034, 8.561302276303467, 2.0944486416728436, null, null, 0.40090194817483893, 1.7513615992406102, 2.257074962938082, 5.098966562379224], \"yaxis\": \"y\"}, {\"line\": {\"color\": \"rgb(31, 119, 180)\", \"dash\": \"solid\"}, \"marker\": {\"color\": \"rgb(31, 119, 180)\", \"size\": 8, \"symbol\": \"square\"}, \"name\": \"Attack-0.001\", \"showlegend\": true, \"text\": [\"6.071\\u00b10.319\", \"7.689\\u00b14.006\", \"7.220\\u00b14.604\", \"3.598\\u00b11.575\", \"nan\\u00b1nan\"], \"type\": \"scatter\", \"x\": [1, 2, 4, 8], \"xaxis\": \"x\", \"y\": [6.071026366211506, 7.688935120289682, 7.2204121282706, 3.598027331913331, null], \"yaxis\": \"y\"}, {\"fill\": \"toself\", \"fillcolor\": \"rgba(31, 119, 180,0.2)\", \"hoverinfo\": \"skip\", \"line\": {\"color\": \"rgba(255,255,255,0)\"}, \"name\": \"Attack-0.001_fill\", \"showlegend\": false, \"type\": \"scatter\", \"x\": [1, 2, 4, 8, 8, 4, 2, 1], \"xaxis\": \"x\", \"y\": [6.39048411280509, 11.694608795549449, 11.82395489606525, 5.173160869234662, null, null, 2.0228937945919996, 2.61686936047595, 3.683261445029914, 5.751568619617922], \"yaxis\": \"y\"}],\n",
       "                        {\"annotations\": [{\"font\": {\"size\": 16}, \"showarrow\": false, \"text\": \"PGD\", \"x\": 0.5, \"xanchor\": \"center\", \"xref\": \"paper\", \"y\": 1.0, \"yanchor\": \"bottom\", \"yref\": \"paper\"}], \"autosize\": false, \"font\": {\"family\": \"Times\"}, \"height\": 350, \"legend\": {\"bgcolor\": \"rgba(255,255,255,0.5)\", \"bordercolor\": \"rgba(0,0,0,0.2)\", \"borderwidth\": 1, \"font\": {\"size\": 13}, \"x\": 0.96, \"xanchor\": \"right\", \"y\": 0.96, \"yanchor\": \"top\"}, \"margin\": {\"b\": 0, \"l\": 0, \"r\": 0, \"t\": 25}, \"paper_bgcolor\": \"rgba(0,0,0,0)\", \"plot_bgcolor\": \"rgba(255,255,255,0)\", \"template\": {\"data\": {\"bar\": [{\"error_x\": {\"color\": \"#2a3f5f\"}, \"error_y\": {\"color\": \"#2a3f5f\"}, \"marker\": {\"line\": {\"color\": \"#E5ECF6\", \"width\": 0.5}}, \"type\": \"bar\"}], \"barpolar\": [{\"marker\": {\"line\": {\"color\": \"#E5ECF6\", \"width\": 0.5}}, \"type\": \"barpolar\"}], \"carpet\": [{\"aaxis\": {\"endlinecolor\": \"#2a3f5f\", \"gridcolor\": \"white\", \"linecolor\": \"white\", \"minorgridcolor\": \"white\", \"startlinecolor\": \"#2a3f5f\"}, \"baxis\": {\"endlinecolor\": \"#2a3f5f\", \"gridcolor\": \"white\", \"linecolor\": \"white\", \"minorgridcolor\": \"white\", \"startlinecolor\": \"#2a3f5f\"}, \"type\": \"carpet\"}], \"choropleth\": [{\"colorbar\": {\"outlinewidth\": 0, \"ticks\": \"\"}, \"type\": \"choropleth\"}], \"contour\": [{\"colorbar\": {\"outlinewidth\": 0, \"ticks\": \"\"}, \"colorscale\": [[0.0, \"#0d0887\"], [0.1111111111111111, \"#46039f\"], [0.2222222222222222, \"#7201a8\"], [0.3333333333333333, \"#9c179e\"], [0.4444444444444444, \"#bd3786\"], [0.5555555555555556, \"#d8576b\"], [0.6666666666666666, \"#ed7953\"], [0.7777777777777778, \"#fb9f3a\"], [0.8888888888888888, \"#fdca26\"], [1.0, \"#f0f921\"]], \"type\": \"contour\"}], \"contourcarpet\": [{\"colorbar\": {\"outlinewidth\": 0, \"ticks\": \"\"}, \"type\": \"contourcarpet\"}], \"heatmap\": [{\"colorbar\": {\"outlinewidth\": 0, \"ticks\": \"\"}, \"colorscale\": [[0.0, \"#0d0887\"], [0.1111111111111111, \"#46039f\"], [0.2222222222222222, \"#7201a8\"], [0.3333333333333333, \"#9c179e\"], [0.4444444444444444, \"#bd3786\"], [0.5555555555555556, \"#d8576b\"], [0.6666666666666666, \"#ed7953\"], [0.7777777777777778, \"#fb9f3a\"], [0.8888888888888888, \"#fdca26\"], [1.0, \"#f0f921\"]], \"type\": \"heatmap\"}], \"heatmapgl\": [{\"colorbar\": {\"outlinewidth\": 0, \"ticks\": \"\"}, \"colorscale\": [[0.0, \"#0d0887\"], [0.1111111111111111, \"#46039f\"], [0.2222222222222222, \"#7201a8\"], [0.3333333333333333, \"#9c179e\"], [0.4444444444444444, \"#bd3786\"], [0.5555555555555556, \"#d8576b\"], [0.6666666666666666, \"#ed7953\"], [0.7777777777777778, \"#fb9f3a\"], [0.8888888888888888, \"#fdca26\"], [1.0, \"#f0f921\"]], \"type\": \"heatmapgl\"}], \"histogram\": [{\"marker\": {\"colorbar\": {\"outlinewidth\": 0, \"ticks\": \"\"}}, \"type\": \"histogram\"}], \"histogram2d\": [{\"colorbar\": {\"outlinewidth\": 0, \"ticks\": \"\"}, \"colorscale\": [[0.0, \"#0d0887\"], [0.1111111111111111, \"#46039f\"], [0.2222222222222222, \"#7201a8\"], [0.3333333333333333, \"#9c179e\"], [0.4444444444444444, \"#bd3786\"], [0.5555555555555556, \"#d8576b\"], [0.6666666666666666, \"#ed7953\"], [0.7777777777777778, \"#fb9f3a\"], [0.8888888888888888, \"#fdca26\"], [1.0, \"#f0f921\"]], \"type\": \"histogram2d\"}], \"histogram2dcontour\": [{\"colorbar\": {\"outlinewidth\": 0, \"ticks\": \"\"}, \"colorscale\": [[0.0, \"#0d0887\"], [0.1111111111111111, \"#46039f\"], [0.2222222222222222, \"#7201a8\"], [0.3333333333333333, \"#9c179e\"], [0.4444444444444444, \"#bd3786\"], [0.5555555555555556, \"#d8576b\"], [0.6666666666666666, \"#ed7953\"], [0.7777777777777778, \"#fb9f3a\"], [0.8888888888888888, \"#fdca26\"], [1.0, \"#f0f921\"]], \"type\": \"histogram2dcontour\"}], \"mesh3d\": [{\"colorbar\": {\"outlinewidth\": 0, \"ticks\": \"\"}, \"type\": \"mesh3d\"}], \"parcoords\": [{\"line\": {\"colorbar\": {\"outlinewidth\": 0, \"ticks\": \"\"}}, \"type\": \"parcoords\"}], \"pie\": [{\"automargin\": true, \"type\": \"pie\"}], \"scatter\": [{\"marker\": {\"colorbar\": {\"outlinewidth\": 0, \"ticks\": \"\"}}, \"type\": \"scatter\"}], \"scatter3d\": [{\"line\": {\"colorbar\": {\"outlinewidth\": 0, \"ticks\": \"\"}}, \"marker\": {\"colorbar\": {\"outlinewidth\": 0, \"ticks\": \"\"}}, \"type\": \"scatter3d\"}], \"scattercarpet\": [{\"marker\": {\"colorbar\": {\"outlinewidth\": 0, \"ticks\": \"\"}}, \"type\": \"scattercarpet\"}], \"scattergeo\": [{\"marker\": {\"colorbar\": {\"outlinewidth\": 0, \"ticks\": \"\"}}, \"type\": \"scattergeo\"}], \"scattergl\": [{\"marker\": {\"colorbar\": {\"outlinewidth\": 0, \"ticks\": \"\"}}, \"type\": \"scattergl\"}], \"scattermapbox\": [{\"marker\": {\"colorbar\": {\"outlinewidth\": 0, \"ticks\": \"\"}}, \"type\": \"scattermapbox\"}], \"scatterpolar\": [{\"marker\": {\"colorbar\": {\"outlinewidth\": 0, \"ticks\": \"\"}}, \"type\": \"scatterpolar\"}], \"scatterpolargl\": [{\"marker\": {\"colorbar\": {\"outlinewidth\": 0, \"ticks\": \"\"}}, \"type\": \"scatterpolargl\"}], \"scatterternary\": [{\"marker\": {\"colorbar\": {\"outlinewidth\": 0, \"ticks\": \"\"}}, \"type\": \"scatterternary\"}], \"surface\": [{\"colorbar\": {\"outlinewidth\": 0, \"ticks\": \"\"}, \"colorscale\": [[0.0, \"#0d0887\"], [0.1111111111111111, \"#46039f\"], [0.2222222222222222, \"#7201a8\"], [0.3333333333333333, \"#9c179e\"], [0.4444444444444444, \"#bd3786\"], [0.5555555555555556, \"#d8576b\"], [0.6666666666666666, \"#ed7953\"], [0.7777777777777778, \"#fb9f3a\"], [0.8888888888888888, \"#fdca26\"], [1.0, \"#f0f921\"]], \"type\": \"surface\"}], \"table\": [{\"cells\": {\"fill\": {\"color\": \"#EBF0F8\"}, \"line\": {\"color\": \"white\"}}, \"header\": {\"fill\": {\"color\": \"#C8D4E3\"}, \"line\": {\"color\": \"white\"}}, \"type\": \"table\"}]}, \"layout\": {\"annotationdefaults\": {\"arrowcolor\": \"#2a3f5f\", \"arrowhead\": 0, \"arrowwidth\": 1}, \"coloraxis\": {\"colorbar\": {\"outlinewidth\": 0, \"ticks\": \"\"}}, \"colorscale\": {\"diverging\": [[0, \"#8e0152\"], [0.1, \"#c51b7d\"], [0.2, \"#de77ae\"], [0.3, \"#f1b6da\"], [0.4, \"#fde0ef\"], [0.5, \"#f7f7f7\"], [0.6, \"#e6f5d0\"], [0.7, \"#b8e186\"], [0.8, \"#7fbc41\"], [0.9, \"#4d9221\"], [1, \"#276419\"]], \"sequential\": [[0.0, \"#0d0887\"], [0.1111111111111111, \"#46039f\"], [0.2222222222222222, \"#7201a8\"], [0.3333333333333333, \"#9c179e\"], [0.4444444444444444, \"#bd3786\"], [0.5555555555555556, \"#d8576b\"], [0.6666666666666666, \"#ed7953\"], [0.7777777777777778, \"#fb9f3a\"], [0.8888888888888888, \"#fdca26\"], [1.0, \"#f0f921\"]], \"sequentialminus\": [[0.0, \"#0d0887\"], [0.1111111111111111, \"#46039f\"], [0.2222222222222222, \"#7201a8\"], [0.3333333333333333, \"#9c179e\"], [0.4444444444444444, \"#bd3786\"], [0.5555555555555556, \"#d8576b\"], [0.6666666666666666, \"#ed7953\"], [0.7777777777777778, \"#fb9f3a\"], [0.8888888888888888, \"#fdca26\"], [1.0, \"#f0f921\"]]}, \"colorway\": [\"#636efa\", \"#EF553B\", \"#00cc96\", \"#ab63fa\", \"#FFA15A\", \"#19d3f3\", \"#FF6692\", \"#B6E880\", \"#FF97FF\", \"#FECB52\"], \"font\": {\"color\": \"#2a3f5f\"}, \"geo\": {\"bgcolor\": \"white\", \"lakecolor\": \"white\", \"landcolor\": \"#E5ECF6\", \"showlakes\": true, \"showland\": true, \"subunitcolor\": \"white\"}, \"hoverlabel\": {\"align\": \"left\"}, \"hovermode\": \"closest\", \"mapbox\": {\"style\": \"light\"}, \"paper_bgcolor\": \"white\", \"plot_bgcolor\": \"#E5ECF6\", \"polar\": {\"angularaxis\": {\"gridcolor\": \"white\", \"linecolor\": \"white\", \"ticks\": \"\"}, \"bgcolor\": \"#E5ECF6\", \"radialaxis\": {\"gridcolor\": \"white\", \"linecolor\": \"white\", \"ticks\": \"\"}}, \"scene\": {\"xaxis\": {\"backgroundcolor\": \"#E5ECF6\", \"gridcolor\": \"white\", \"gridwidth\": 2, \"linecolor\": \"white\", \"showbackground\": true, \"ticks\": \"\", \"zerolinecolor\": \"white\"}, \"yaxis\": {\"backgroundcolor\": \"#E5ECF6\", \"gridcolor\": \"white\", \"gridwidth\": 2, \"linecolor\": \"white\", \"showbackground\": true, \"ticks\": \"\", \"zerolinecolor\": \"white\"}, \"zaxis\": {\"backgroundcolor\": \"#E5ECF6\", \"gridcolor\": \"white\", \"gridwidth\": 2, \"linecolor\": \"white\", \"showbackground\": true, \"ticks\": \"\", \"zerolinecolor\": \"white\"}}, \"shapedefaults\": {\"line\": {\"color\": \"#2a3f5f\"}}, \"ternary\": {\"aaxis\": {\"gridcolor\": \"white\", \"linecolor\": \"white\", \"ticks\": \"\"}, \"baxis\": {\"gridcolor\": \"white\", \"linecolor\": \"white\", \"ticks\": \"\"}, \"bgcolor\": \"#E5ECF6\", \"caxis\": {\"gridcolor\": \"white\", \"linecolor\": \"white\", \"ticks\": \"\"}}, \"title\": {\"x\": 0.05}, \"xaxis\": {\"automargin\": true, \"gridcolor\": \"white\", \"linecolor\": \"white\", \"ticks\": \"\", \"title\": {\"standoff\": 15}, \"zerolinecolor\": \"white\", \"zerolinewidth\": 2}, \"yaxis\": {\"automargin\": true, \"gridcolor\": \"white\", \"linecolor\": \"white\", \"ticks\": \"\", \"title\": {\"standoff\": 15}, \"zerolinecolor\": \"white\", \"zerolinewidth\": 2}}}, \"width\": 450, \"xaxis\": {\"anchor\": \"y\", \"domain\": [0.0, 1.0], \"gridcolor\": \"rgba(0,0,0,0.1)\", \"linecolor\": \"rgba(0,0,0,1)\", \"mirror\": true, \"showgrid\": true, \"showline\": true, \"showticklabels\": true, \"tickfont\": {\"size\": 18}, \"tickmode\": \"array\", \"ticks\": \"outside\", \"title\": {\"font\": {\"size\": 20}, \"text\": \"Model Size\"}}, \"yaxis\": {\"anchor\": \"x\", \"domain\": [0.0, 1.0], \"gridcolor\": \"rgba(0,0,0,0.1)\", \"linecolor\": \"rgba(0,0,0,1)\", \"mirror\": true, \"showgrid\": true, \"showline\": true, \"showticklabels\": true, \"tickfont\": {\"size\": 18}, \"tickmode\": \"array\", \"ticks\": \"outside\", \"title\": {\"font\": {\"size\": 20}, \"text\": \"Test Accuracy\"}}},\n",
       "                        {\"responsive\": true}\n",
       "                    ).then(function(){\n",
       "                            \n",
       "var gd = document.getElementById('31d97f86-77ab-44c0-ac0b-f516045cb291');\n",
       "var x = new MutationObserver(function (mutations, observer) {{\n",
       "        var display = window.getComputedStyle(gd).display;\n",
       "        if (!display || display === 'none') {{\n",
       "            console.log([gd, 'removed!']);\n",
       "            Plotly.purge(gd);\n",
       "            observer.disconnect();\n",
       "        }}\n",
       "}});\n",
       "\n",
       "// Listen for the removal of the full notebook cells\n",
       "var notebookContainer = gd.closest('#notebook-container');\n",
       "if (notebookContainer) {{\n",
       "    x.observe(notebookContainer, {childList: true});\n",
       "}}\n",
       "\n",
       "// Listen for the clearing of the current output cell\n",
       "var outputEl = gd.closest('.output');\n",
       "if (outputEl) {{\n",
       "    x.observe(outputEl, {childList: true});\n",
       "}}\n",
       "\n",
       "                        })\n",
       "                };\n",
       "                });\n",
       "            </script>\n",
       "        </div>"
      ]
     },
     "metadata": {},
     "output_type": "display_data"
    }
   ],
   "source": [
    "plot_res(root_dir,attack_method='PGD')"
   ]
  },
  {
   "cell_type": "code",
   "execution_count": 86,
   "metadata": {
    "ExecuteTime": {
     "end_time": "2021-04-15T06:06:44.952128Z",
     "start_time": "2021-04-15T06:06:44.848683Z"
    }
   },
   "outputs": [
    {
     "data": {
      "application/vnd.plotly.v1+json": {
       "config": {
        "plotlyServerURL": "https://plot.ly"
       },
       "data": [
        {
         "line": {
          "color": "rgb(148, 103, 189)",
          "dash": "solid"
         },
         "marker": {
          "color": "rgb(148, 103, 189)",
          "size": 8,
          "symbol": "circle"
         },
         "name": "Attack-0.1",
         "showlegend": true,
         "text": [
          "9.154±5.358",
          "6.613±1.230",
          "2.405±0.173",
          "3.835±2.594",
          "4.564±0.000"
         ],
         "type": "scatter",
         "x": [
          1,
          2,
          4,
          8
         ],
         "xaxis": "x",
         "y": [
          9.153821686117775,
          6.613481426700591,
          2.4053712507305387,
          3.8347245743836633,
          4.564015714862925
         ],
         "yaxis": "y"
        },
        {
         "fill": "toself",
         "fillcolor": "rgba(148, 103, 189,0.2)",
         "hoverinfo": "skip",
         "line": {
          "color": "rgba(255,255,255,0)"
         },
         "name": "Attack-0.1_fill",
         "showlegend": false,
         "type": "scatter",
         "x": [
          1,
          2,
          4,
          8,
          8,
          4,
          2,
          1
         ],
         "xaxis": "x",
         "y": [
          14.512026248322819,
          7.843465476696165,
          2.5786208696446398,
          6.428872686221313,
          4.564015714862925,
          4.564015714862925,
          1.2405764625460134,
          2.2321216318164376,
          5.383497376705016,
          3.7956171239127316
         ],
         "yaxis": "y"
        },
        {
         "line": {
          "color": "rgb(255, 127, 14)",
          "dash": "solid"
         },
         "marker": {
          "color": "rgb(255, 127, 14)",
          "size": 8,
          "symbol": "cross"
         },
         "name": "Attack-0.3",
         "showlegend": true,
         "text": [
          "8.707±5.237",
          "6.193±0.872",
          "2.079±0.515",
          "3.125±2.245",
          "1.766±0.000"
         ],
         "type": "scatter",
         "x": [
          1,
          2,
          4,
          8
         ],
         "xaxis": "x",
         "y": [
          8.706790574477221,
          6.193386805115291,
          2.078981227553429,
          3.1246328470382543,
          1.7657728910017796
         ],
         "yaxis": "y"
        },
        {
         "fill": "toself",
         "fillcolor": "rgba(255, 127, 14,0.2)",
         "hoverinfo": "skip",
         "line": {
          "color": "rgba(255,255,255,0)"
         },
         "name": "Attack-0.3_fill",
         "showlegend": false,
         "type": "scatter",
         "x": [
          1,
          2,
          4,
          8,
          8,
          4,
          2,
          1
         ],
         "xaxis": "x",
         "y": [
          13.943320117195071,
          7.065231792605013,
          2.594027532829048,
          5.369456951913975,
          1.7657728910017796,
          1.7657728910017796,
          0.8798087421625342,
          1.56393492227781,
          5.321541817625569,
          3.470261031759372
         ],
         "yaxis": "y"
        },
        {
         "line": {
          "color": "rgb(140, 86, 75)",
          "dash": "solid"
         },
         "marker": {
          "color": "rgb(140, 86, 75)",
          "size": 8,
          "symbol": "hexagon"
         },
         "name": "Attack-0.7",
         "showlegend": true,
         "text": [
          "3.774±1.339",
          "4.775±0.365",
          "1.926±0.387",
          "2.386±0.845",
          "0.377±0.000"
         ],
         "type": "scatter",
         "x": [
          1,
          2,
          4,
          8
         ],
         "xaxis": "x",
         "y": [
          3.7742607509440247,
          4.7752092592642486,
          1.9259590393416035,
          2.386458395996122,
          0.3773974192550055
         ],
         "yaxis": "y"
        },
        {
         "fill": "toself",
         "fillcolor": "rgba(140, 86, 75,0.2)",
         "hoverinfo": "skip",
         "line": {
          "color": "rgba(255,255,255,0)"
         },
         "name": "Attack-0.7_fill",
         "showlegend": false,
         "type": "scatter",
         "x": [
          1,
          2,
          4,
          8,
          8,
          4,
          2,
          1
         ],
         "xaxis": "x",
         "y": [
          5.113644177002745,
          5.140569090372771,
          2.3127073756238317,
          3.231216923585823,
          0.3773974192550055,
          0.3773974192550055,
          1.541699868406421,
          1.5392107030593754,
          4.409849428155726,
          2.4348773248853046
         ],
         "yaxis": "y"
        },
        {
         "line": {
          "color": "rgb(227, 119, 194)",
          "dash": "solid"
         },
         "marker": {
          "color": "rgb(227, 119, 194)",
          "size": 8,
          "symbol": "diamond"
         },
         "name": "Attack-0.01",
         "showlegend": true,
         "text": [
          "9.249±5.317",
          "6.703±1.377",
          "2.378±0.303",
          "4.052±2.671",
          "5.383±0.000"
         ],
         "type": "scatter",
         "x": [
          1,
          2,
          4,
          8
         ],
         "xaxis": "x",
         "y": [
          9.248672518129172,
          6.703174207434695,
          2.378434760664351,
          4.051649286888479,
          5.383286194475727
         ],
         "yaxis": "y"
        },
        {
         "fill": "toself",
         "fillcolor": "rgba(227, 119, 194,0.2)",
         "hoverinfo": "skip",
         "line": {
          "color": "rgba(255,255,255,0)"
         },
         "name": "Attack-0.01_fill",
         "showlegend": false,
         "type": "scatter",
         "x": [
          1,
          2,
          4,
          8,
          8,
          4,
          2,
          1
         ],
         "xaxis": "x",
         "y": [
          14.565508190649663,
          8.07991560595211,
          2.68106838524838,
          6.723129357557164,
          5.383286194475727,
          5.383286194475727,
          1.3801692162197936,
          2.075801136080322,
          5.32643280891728,
          3.9318368456086823
         ],
         "yaxis": "y"
        },
        {
         "line": {
          "color": "rgb(44, 160, 44)",
          "dash": "solid"
         },
         "marker": {
          "color": "rgb(44, 160, 44)",
          "size": 8,
          "symbol": "x"
         },
         "name": "Attack-0.03",
         "showlegend": true,
         "text": [
          "9.218±5.294",
          "6.679±1.383",
          "2.431±0.302",
          "4.026±2.666",
          "5.289±0.000"
         ],
         "type": "scatter",
         "x": [
          1,
          2,
          4,
          8
         ],
         "xaxis": "x",
         "y": [
          9.217724210410765,
          6.679389859827887,
          2.4305883903618524,
          4.0261455888522635,
          5.2887219208583
         ],
         "yaxis": "y"
        },
        {
         "fill": "toself",
         "fillcolor": "rgba(44, 160, 44,0.2)",
         "hoverinfo": "skip",
         "line": {
          "color": "rgba(255,255,255,0)"
         },
         "name": "Attack-0.03_fill",
         "showlegend": false,
         "type": "scatter",
         "x": [
          1,
          2,
          4,
          8,
          8,
          4,
          2,
          1
         ],
         "xaxis": "x",
         "y": [
          14.51213698929623,
          8.062718378786846,
          2.732636989439912,
          6.692562415378866,
          5.2887219208583,
          5.2887219208583,
          1.3597287623256613,
          2.1285397912837927,
          5.296061340868928,
          3.9233114315253
         ],
         "yaxis": "y"
        },
        {
         "line": {
          "color": "rgb(31, 119, 180)",
          "dash": "solid"
         },
         "marker": {
          "color": "rgb(31, 119, 180)",
          "size": 8,
          "symbol": "square"
         },
         "name": "Attack-0.001",
         "showlegend": true,
         "text": [
          "9.271±5.331",
          "6.692±1.371",
          "2.378±0.306",
          "4.053±2.676",
          "5.386±0.000"
         ],
         "type": "scatter",
         "x": [
          1,
          2,
          4,
          8
         ],
         "xaxis": "x",
         "y": [
          9.270737515306573,
          6.691998429643544,
          2.377861643854548,
          4.0525089621031825,
          5.385865220119839
         ],
         "yaxis": "y"
        },
        {
         "fill": "toself",
         "fillcolor": "rgba(31, 119, 180,0.2)",
         "hoverinfo": "skip",
         "line": {
          "color": "rgba(255,255,255,0)"
         },
         "name": "Attack-0.001_fill",
         "showlegend": false,
         "type": "scatter",
         "x": [
          1,
          2,
          4,
          8,
          8,
          4,
          2,
          1
         ],
         "xaxis": "x",
         "y": [
          14.601815106256526,
          8.063389296322185,
          2.6836990809152974,
          6.728071535164682,
          5.385865220119839,
          5.385865220119839,
          1.376946389041683,
          2.072024206793799,
          5.320607562964903,
          3.9396599243566204
         ],
         "yaxis": "y"
        }
       ],
       "layout": {
        "annotations": [
         {
          "font": {
           "size": 16
          },
          "showarrow": false,
          "text": "FGSM",
          "x": 0.5,
          "xanchor": "center",
          "xref": "paper",
          "y": 1,
          "yanchor": "bottom",
          "yref": "paper"
         }
        ],
        "autosize": false,
        "font": {
         "family": "Times"
        },
        "height": 350,
        "legend": {
         "bgcolor": "rgba(255,255,255,0.5)",
         "bordercolor": "rgba(0,0,0,0.2)",
         "borderwidth": 1,
         "font": {
          "size": 13
         },
         "x": 0.96,
         "xanchor": "right",
         "y": 0.96,
         "yanchor": "top"
        },
        "margin": {
         "b": 0,
         "l": 0,
         "r": 0,
         "t": 25
        },
        "paper_bgcolor": "rgba(0,0,0,0)",
        "plot_bgcolor": "rgba(255,255,255,0)",
        "template": {
         "data": {
          "bar": [
           {
            "error_x": {
             "color": "#2a3f5f"
            },
            "error_y": {
             "color": "#2a3f5f"
            },
            "marker": {
             "line": {
              "color": "#E5ECF6",
              "width": 0.5
             }
            },
            "type": "bar"
           }
          ],
          "barpolar": [
           {
            "marker": {
             "line": {
              "color": "#E5ECF6",
              "width": 0.5
             }
            },
            "type": "barpolar"
           }
          ],
          "carpet": [
           {
            "aaxis": {
             "endlinecolor": "#2a3f5f",
             "gridcolor": "white",
             "linecolor": "white",
             "minorgridcolor": "white",
             "startlinecolor": "#2a3f5f"
            },
            "baxis": {
             "endlinecolor": "#2a3f5f",
             "gridcolor": "white",
             "linecolor": "white",
             "minorgridcolor": "white",
             "startlinecolor": "#2a3f5f"
            },
            "type": "carpet"
           }
          ],
          "choropleth": [
           {
            "colorbar": {
             "outlinewidth": 0,
             "ticks": ""
            },
            "type": "choropleth"
           }
          ],
          "contour": [
           {
            "colorbar": {
             "outlinewidth": 0,
             "ticks": ""
            },
            "colorscale": [
             [
              0,
              "#0d0887"
             ],
             [
              0.1111111111111111,
              "#46039f"
             ],
             [
              0.2222222222222222,
              "#7201a8"
             ],
             [
              0.3333333333333333,
              "#9c179e"
             ],
             [
              0.4444444444444444,
              "#bd3786"
             ],
             [
              0.5555555555555556,
              "#d8576b"
             ],
             [
              0.6666666666666666,
              "#ed7953"
             ],
             [
              0.7777777777777778,
              "#fb9f3a"
             ],
             [
              0.8888888888888888,
              "#fdca26"
             ],
             [
              1,
              "#f0f921"
             ]
            ],
            "type": "contour"
           }
          ],
          "contourcarpet": [
           {
            "colorbar": {
             "outlinewidth": 0,
             "ticks": ""
            },
            "type": "contourcarpet"
           }
          ],
          "heatmap": [
           {
            "colorbar": {
             "outlinewidth": 0,
             "ticks": ""
            },
            "colorscale": [
             [
              0,
              "#0d0887"
             ],
             [
              0.1111111111111111,
              "#46039f"
             ],
             [
              0.2222222222222222,
              "#7201a8"
             ],
             [
              0.3333333333333333,
              "#9c179e"
             ],
             [
              0.4444444444444444,
              "#bd3786"
             ],
             [
              0.5555555555555556,
              "#d8576b"
             ],
             [
              0.6666666666666666,
              "#ed7953"
             ],
             [
              0.7777777777777778,
              "#fb9f3a"
             ],
             [
              0.8888888888888888,
              "#fdca26"
             ],
             [
              1,
              "#f0f921"
             ]
            ],
            "type": "heatmap"
           }
          ],
          "heatmapgl": [
           {
            "colorbar": {
             "outlinewidth": 0,
             "ticks": ""
            },
            "colorscale": [
             [
              0,
              "#0d0887"
             ],
             [
              0.1111111111111111,
              "#46039f"
             ],
             [
              0.2222222222222222,
              "#7201a8"
             ],
             [
              0.3333333333333333,
              "#9c179e"
             ],
             [
              0.4444444444444444,
              "#bd3786"
             ],
             [
              0.5555555555555556,
              "#d8576b"
             ],
             [
              0.6666666666666666,
              "#ed7953"
             ],
             [
              0.7777777777777778,
              "#fb9f3a"
             ],
             [
              0.8888888888888888,
              "#fdca26"
             ],
             [
              1,
              "#f0f921"
             ]
            ],
            "type": "heatmapgl"
           }
          ],
          "histogram": [
           {
            "marker": {
             "colorbar": {
              "outlinewidth": 0,
              "ticks": ""
             }
            },
            "type": "histogram"
           }
          ],
          "histogram2d": [
           {
            "colorbar": {
             "outlinewidth": 0,
             "ticks": ""
            },
            "colorscale": [
             [
              0,
              "#0d0887"
             ],
             [
              0.1111111111111111,
              "#46039f"
             ],
             [
              0.2222222222222222,
              "#7201a8"
             ],
             [
              0.3333333333333333,
              "#9c179e"
             ],
             [
              0.4444444444444444,
              "#bd3786"
             ],
             [
              0.5555555555555556,
              "#d8576b"
             ],
             [
              0.6666666666666666,
              "#ed7953"
             ],
             [
              0.7777777777777778,
              "#fb9f3a"
             ],
             [
              0.8888888888888888,
              "#fdca26"
             ],
             [
              1,
              "#f0f921"
             ]
            ],
            "type": "histogram2d"
           }
          ],
          "histogram2dcontour": [
           {
            "colorbar": {
             "outlinewidth": 0,
             "ticks": ""
            },
            "colorscale": [
             [
              0,
              "#0d0887"
             ],
             [
              0.1111111111111111,
              "#46039f"
             ],
             [
              0.2222222222222222,
              "#7201a8"
             ],
             [
              0.3333333333333333,
              "#9c179e"
             ],
             [
              0.4444444444444444,
              "#bd3786"
             ],
             [
              0.5555555555555556,
              "#d8576b"
             ],
             [
              0.6666666666666666,
              "#ed7953"
             ],
             [
              0.7777777777777778,
              "#fb9f3a"
             ],
             [
              0.8888888888888888,
              "#fdca26"
             ],
             [
              1,
              "#f0f921"
             ]
            ],
            "type": "histogram2dcontour"
           }
          ],
          "mesh3d": [
           {
            "colorbar": {
             "outlinewidth": 0,
             "ticks": ""
            },
            "type": "mesh3d"
           }
          ],
          "parcoords": [
           {
            "line": {
             "colorbar": {
              "outlinewidth": 0,
              "ticks": ""
             }
            },
            "type": "parcoords"
           }
          ],
          "pie": [
           {
            "automargin": true,
            "type": "pie"
           }
          ],
          "scatter": [
           {
            "marker": {
             "colorbar": {
              "outlinewidth": 0,
              "ticks": ""
             }
            },
            "type": "scatter"
           }
          ],
          "scatter3d": [
           {
            "line": {
             "colorbar": {
              "outlinewidth": 0,
              "ticks": ""
             }
            },
            "marker": {
             "colorbar": {
              "outlinewidth": 0,
              "ticks": ""
             }
            },
            "type": "scatter3d"
           }
          ],
          "scattercarpet": [
           {
            "marker": {
             "colorbar": {
              "outlinewidth": 0,
              "ticks": ""
             }
            },
            "type": "scattercarpet"
           }
          ],
          "scattergeo": [
           {
            "marker": {
             "colorbar": {
              "outlinewidth": 0,
              "ticks": ""
             }
            },
            "type": "scattergeo"
           }
          ],
          "scattergl": [
           {
            "marker": {
             "colorbar": {
              "outlinewidth": 0,
              "ticks": ""
             }
            },
            "type": "scattergl"
           }
          ],
          "scattermapbox": [
           {
            "marker": {
             "colorbar": {
              "outlinewidth": 0,
              "ticks": ""
             }
            },
            "type": "scattermapbox"
           }
          ],
          "scatterpolar": [
           {
            "marker": {
             "colorbar": {
              "outlinewidth": 0,
              "ticks": ""
             }
            },
            "type": "scatterpolar"
           }
          ],
          "scatterpolargl": [
           {
            "marker": {
             "colorbar": {
              "outlinewidth": 0,
              "ticks": ""
             }
            },
            "type": "scatterpolargl"
           }
          ],
          "scatterternary": [
           {
            "marker": {
             "colorbar": {
              "outlinewidth": 0,
              "ticks": ""
             }
            },
            "type": "scatterternary"
           }
          ],
          "surface": [
           {
            "colorbar": {
             "outlinewidth": 0,
             "ticks": ""
            },
            "colorscale": [
             [
              0,
              "#0d0887"
             ],
             [
              0.1111111111111111,
              "#46039f"
             ],
             [
              0.2222222222222222,
              "#7201a8"
             ],
             [
              0.3333333333333333,
              "#9c179e"
             ],
             [
              0.4444444444444444,
              "#bd3786"
             ],
             [
              0.5555555555555556,
              "#d8576b"
             ],
             [
              0.6666666666666666,
              "#ed7953"
             ],
             [
              0.7777777777777778,
              "#fb9f3a"
             ],
             [
              0.8888888888888888,
              "#fdca26"
             ],
             [
              1,
              "#f0f921"
             ]
            ],
            "type": "surface"
           }
          ],
          "table": [
           {
            "cells": {
             "fill": {
              "color": "#EBF0F8"
             },
             "line": {
              "color": "white"
             }
            },
            "header": {
             "fill": {
              "color": "#C8D4E3"
             },
             "line": {
              "color": "white"
             }
            },
            "type": "table"
           }
          ]
         },
         "layout": {
          "annotationdefaults": {
           "arrowcolor": "#2a3f5f",
           "arrowhead": 0,
           "arrowwidth": 1
          },
          "coloraxis": {
           "colorbar": {
            "outlinewidth": 0,
            "ticks": ""
           }
          },
          "colorscale": {
           "diverging": [
            [
             0,
             "#8e0152"
            ],
            [
             0.1,
             "#c51b7d"
            ],
            [
             0.2,
             "#de77ae"
            ],
            [
             0.3,
             "#f1b6da"
            ],
            [
             0.4,
             "#fde0ef"
            ],
            [
             0.5,
             "#f7f7f7"
            ],
            [
             0.6,
             "#e6f5d0"
            ],
            [
             0.7,
             "#b8e186"
            ],
            [
             0.8,
             "#7fbc41"
            ],
            [
             0.9,
             "#4d9221"
            ],
            [
             1,
             "#276419"
            ]
           ],
           "sequential": [
            [
             0,
             "#0d0887"
            ],
            [
             0.1111111111111111,
             "#46039f"
            ],
            [
             0.2222222222222222,
             "#7201a8"
            ],
            [
             0.3333333333333333,
             "#9c179e"
            ],
            [
             0.4444444444444444,
             "#bd3786"
            ],
            [
             0.5555555555555556,
             "#d8576b"
            ],
            [
             0.6666666666666666,
             "#ed7953"
            ],
            [
             0.7777777777777778,
             "#fb9f3a"
            ],
            [
             0.8888888888888888,
             "#fdca26"
            ],
            [
             1,
             "#f0f921"
            ]
           ],
           "sequentialminus": [
            [
             0,
             "#0d0887"
            ],
            [
             0.1111111111111111,
             "#46039f"
            ],
            [
             0.2222222222222222,
             "#7201a8"
            ],
            [
             0.3333333333333333,
             "#9c179e"
            ],
            [
             0.4444444444444444,
             "#bd3786"
            ],
            [
             0.5555555555555556,
             "#d8576b"
            ],
            [
             0.6666666666666666,
             "#ed7953"
            ],
            [
             0.7777777777777778,
             "#fb9f3a"
            ],
            [
             0.8888888888888888,
             "#fdca26"
            ],
            [
             1,
             "#f0f921"
            ]
           ]
          },
          "colorway": [
           "#636efa",
           "#EF553B",
           "#00cc96",
           "#ab63fa",
           "#FFA15A",
           "#19d3f3",
           "#FF6692",
           "#B6E880",
           "#FF97FF",
           "#FECB52"
          ],
          "font": {
           "color": "#2a3f5f"
          },
          "geo": {
           "bgcolor": "white",
           "lakecolor": "white",
           "landcolor": "#E5ECF6",
           "showlakes": true,
           "showland": true,
           "subunitcolor": "white"
          },
          "hoverlabel": {
           "align": "left"
          },
          "hovermode": "closest",
          "mapbox": {
           "style": "light"
          },
          "paper_bgcolor": "white",
          "plot_bgcolor": "#E5ECF6",
          "polar": {
           "angularaxis": {
            "gridcolor": "white",
            "linecolor": "white",
            "ticks": ""
           },
           "bgcolor": "#E5ECF6",
           "radialaxis": {
            "gridcolor": "white",
            "linecolor": "white",
            "ticks": ""
           }
          },
          "scene": {
           "xaxis": {
            "backgroundcolor": "#E5ECF6",
            "gridcolor": "white",
            "gridwidth": 2,
            "linecolor": "white",
            "showbackground": true,
            "ticks": "",
            "zerolinecolor": "white"
           },
           "yaxis": {
            "backgroundcolor": "#E5ECF6",
            "gridcolor": "white",
            "gridwidth": 2,
            "linecolor": "white",
            "showbackground": true,
            "ticks": "",
            "zerolinecolor": "white"
           },
           "zaxis": {
            "backgroundcolor": "#E5ECF6",
            "gridcolor": "white",
            "gridwidth": 2,
            "linecolor": "white",
            "showbackground": true,
            "ticks": "",
            "zerolinecolor": "white"
           }
          },
          "shapedefaults": {
           "line": {
            "color": "#2a3f5f"
           }
          },
          "ternary": {
           "aaxis": {
            "gridcolor": "white",
            "linecolor": "white",
            "ticks": ""
           },
           "baxis": {
            "gridcolor": "white",
            "linecolor": "white",
            "ticks": ""
           },
           "bgcolor": "#E5ECF6",
           "caxis": {
            "gridcolor": "white",
            "linecolor": "white",
            "ticks": ""
           }
          },
          "title": {
           "x": 0.05
          },
          "xaxis": {
           "automargin": true,
           "gridcolor": "white",
           "linecolor": "white",
           "ticks": "",
           "title": {
            "standoff": 15
           },
           "zerolinecolor": "white",
           "zerolinewidth": 2
          },
          "yaxis": {
           "automargin": true,
           "gridcolor": "white",
           "linecolor": "white",
           "ticks": "",
           "title": {
            "standoff": 15
           },
           "zerolinecolor": "white",
           "zerolinewidth": 2
          }
         }
        },
        "width": 450,
        "xaxis": {
         "anchor": "y",
         "domain": [
          0,
          1
         ],
         "gridcolor": "rgba(0,0,0,0.1)",
         "linecolor": "rgba(0,0,0,1)",
         "mirror": true,
         "showgrid": true,
         "showline": true,
         "showticklabels": true,
         "tickfont": {
          "size": 18
         },
         "tickmode": "array",
         "ticks": "outside",
         "title": {
          "font": {
           "size": 20
          },
          "text": "Model Size"
         }
        },
        "yaxis": {
         "anchor": "x",
         "domain": [
          0,
          1
         ],
         "gridcolor": "rgba(0,0,0,0.1)",
         "linecolor": "rgba(0,0,0,1)",
         "mirror": true,
         "showgrid": true,
         "showline": true,
         "showticklabels": true,
         "tickfont": {
          "size": 18
         },
         "tickmode": "array",
         "ticks": "outside",
         "title": {
          "font": {
           "size": 20
          },
          "text": "Test Accuracy"
         }
        }
       }
      },
      "text/html": [
       "<div>\n",
       "        \n",
       "        \n",
       "            <div id=\"4982ae54-4431-4cc0-b4bc-2fc1112fa0a4\" class=\"plotly-graph-div\" style=\"height:350px; width:450px;\"></div>\n",
       "            <script type=\"text/javascript\">\n",
       "                require([\"plotly\"], function(Plotly) {\n",
       "                    window.PLOTLYENV=window.PLOTLYENV || {};\n",
       "                    \n",
       "                if (document.getElementById(\"4982ae54-4431-4cc0-b4bc-2fc1112fa0a4\")) {\n",
       "                    Plotly.newPlot(\n",
       "                        '4982ae54-4431-4cc0-b4bc-2fc1112fa0a4',\n",
       "                        [{\"line\": {\"color\": \"rgb(148, 103, 189)\", \"dash\": \"solid\"}, \"marker\": {\"color\": \"rgb(148, 103, 189)\", \"size\": 8, \"symbol\": \"circle\"}, \"name\": \"Attack-0.1\", \"showlegend\": true, \"text\": [\"9.154\\u00b15.358\", \"6.613\\u00b11.230\", \"2.405\\u00b10.173\", \"3.835\\u00b12.594\", \"4.564\\u00b10.000\"], \"type\": \"scatter\", \"x\": [1, 2, 4, 8], \"xaxis\": \"x\", \"y\": [9.153821686117775, 6.613481426700591, 2.4053712507305387, 3.8347245743836633, 4.564015714862925], \"yaxis\": \"y\"}, {\"fill\": \"toself\", \"fillcolor\": \"rgba(148, 103, 189,0.2)\", \"hoverinfo\": \"skip\", \"line\": {\"color\": \"rgba(255,255,255,0)\"}, \"name\": \"Attack-0.1_fill\", \"showlegend\": false, \"type\": \"scatter\", \"x\": [1, 2, 4, 8, 8, 4, 2, 1], \"xaxis\": \"x\", \"y\": [14.512026248322819, 7.843465476696165, 2.5786208696446398, 6.428872686221313, 4.564015714862925, 4.564015714862925, 1.2405764625460134, 2.2321216318164376, 5.383497376705016, 3.7956171239127316], \"yaxis\": \"y\"}, {\"line\": {\"color\": \"rgb(255, 127, 14)\", \"dash\": \"solid\"}, \"marker\": {\"color\": \"rgb(255, 127, 14)\", \"size\": 8, \"symbol\": \"cross\"}, \"name\": \"Attack-0.3\", \"showlegend\": true, \"text\": [\"8.707\\u00b15.237\", \"6.193\\u00b10.872\", \"2.079\\u00b10.515\", \"3.125\\u00b12.245\", \"1.766\\u00b10.000\"], \"type\": \"scatter\", \"x\": [1, 2, 4, 8], \"xaxis\": \"x\", \"y\": [8.706790574477221, 6.193386805115291, 2.078981227553429, 3.1246328470382543, 1.7657728910017796], \"yaxis\": \"y\"}, {\"fill\": \"toself\", \"fillcolor\": \"rgba(255, 127, 14,0.2)\", \"hoverinfo\": \"skip\", \"line\": {\"color\": \"rgba(255,255,255,0)\"}, \"name\": \"Attack-0.3_fill\", \"showlegend\": false, \"type\": \"scatter\", \"x\": [1, 2, 4, 8, 8, 4, 2, 1], \"xaxis\": \"x\", \"y\": [13.943320117195071, 7.065231792605013, 2.594027532829048, 5.369456951913975, 1.7657728910017796, 1.7657728910017796, 0.8798087421625342, 1.56393492227781, 5.321541817625569, 3.470261031759372], \"yaxis\": \"y\"}, {\"line\": {\"color\": \"rgb(140, 86, 75)\", \"dash\": \"solid\"}, \"marker\": {\"color\": \"rgb(140, 86, 75)\", \"size\": 8, \"symbol\": \"hexagon\"}, \"name\": \"Attack-0.7\", \"showlegend\": true, \"text\": [\"3.774\\u00b11.339\", \"4.775\\u00b10.365\", \"1.926\\u00b10.387\", \"2.386\\u00b10.845\", \"0.377\\u00b10.000\"], \"type\": \"scatter\", \"x\": [1, 2, 4, 8], \"xaxis\": \"x\", \"y\": [3.7742607509440247, 4.7752092592642486, 1.9259590393416035, 2.386458395996122, 0.3773974192550055], \"yaxis\": \"y\"}, {\"fill\": \"toself\", \"fillcolor\": \"rgba(140, 86, 75,0.2)\", \"hoverinfo\": \"skip\", \"line\": {\"color\": \"rgba(255,255,255,0)\"}, \"name\": \"Attack-0.7_fill\", \"showlegend\": false, \"type\": \"scatter\", \"x\": [1, 2, 4, 8, 8, 4, 2, 1], \"xaxis\": \"x\", \"y\": [5.113644177002745, 5.140569090372771, 2.3127073756238317, 3.231216923585823, 0.3773974192550055, 0.3773974192550055, 1.541699868406421, 1.5392107030593754, 4.409849428155726, 2.4348773248853046], \"yaxis\": \"y\"}, {\"line\": {\"color\": \"rgb(227, 119, 194)\", \"dash\": \"solid\"}, \"marker\": {\"color\": \"rgb(227, 119, 194)\", \"size\": 8, \"symbol\": \"diamond\"}, \"name\": \"Attack-0.01\", \"showlegend\": true, \"text\": [\"9.249\\u00b15.317\", \"6.703\\u00b11.377\", \"2.378\\u00b10.303\", \"4.052\\u00b12.671\", \"5.383\\u00b10.000\"], \"type\": \"scatter\", \"x\": [1, 2, 4, 8], \"xaxis\": \"x\", \"y\": [9.248672518129172, 6.703174207434695, 2.378434760664351, 4.051649286888479, 5.383286194475727], \"yaxis\": \"y\"}, {\"fill\": \"toself\", \"fillcolor\": \"rgba(227, 119, 194,0.2)\", \"hoverinfo\": \"skip\", \"line\": {\"color\": \"rgba(255,255,255,0)\"}, \"name\": \"Attack-0.01_fill\", \"showlegend\": false, \"type\": \"scatter\", \"x\": [1, 2, 4, 8, 8, 4, 2, 1], \"xaxis\": \"x\", \"y\": [14.565508190649663, 8.07991560595211, 2.68106838524838, 6.723129357557164, 5.383286194475727, 5.383286194475727, 1.3801692162197936, 2.075801136080322, 5.32643280891728, 3.9318368456086823], \"yaxis\": \"y\"}, {\"line\": {\"color\": \"rgb(44, 160, 44)\", \"dash\": \"solid\"}, \"marker\": {\"color\": \"rgb(44, 160, 44)\", \"size\": 8, \"symbol\": \"x\"}, \"name\": \"Attack-0.03\", \"showlegend\": true, \"text\": [\"9.218\\u00b15.294\", \"6.679\\u00b11.383\", \"2.431\\u00b10.302\", \"4.026\\u00b12.666\", \"5.289\\u00b10.000\"], \"type\": \"scatter\", \"x\": [1, 2, 4, 8], \"xaxis\": \"x\", \"y\": [9.217724210410765, 6.679389859827887, 2.4305883903618524, 4.0261455888522635, 5.2887219208583], \"yaxis\": \"y\"}, {\"fill\": \"toself\", \"fillcolor\": \"rgba(44, 160, 44,0.2)\", \"hoverinfo\": \"skip\", \"line\": {\"color\": \"rgba(255,255,255,0)\"}, \"name\": \"Attack-0.03_fill\", \"showlegend\": false, \"type\": \"scatter\", \"x\": [1, 2, 4, 8, 8, 4, 2, 1], \"xaxis\": \"x\", \"y\": [14.51213698929623, 8.062718378786846, 2.732636989439912, 6.692562415378866, 5.2887219208583, 5.2887219208583, 1.3597287623256613, 2.1285397912837927, 5.296061340868928, 3.9233114315253], \"yaxis\": \"y\"}, {\"line\": {\"color\": \"rgb(31, 119, 180)\", \"dash\": \"solid\"}, \"marker\": {\"color\": \"rgb(31, 119, 180)\", \"size\": 8, \"symbol\": \"square\"}, \"name\": \"Attack-0.001\", \"showlegend\": true, \"text\": [\"9.271\\u00b15.331\", \"6.692\\u00b11.371\", \"2.378\\u00b10.306\", \"4.053\\u00b12.676\", \"5.386\\u00b10.000\"], \"type\": \"scatter\", \"x\": [1, 2, 4, 8], \"xaxis\": \"x\", \"y\": [9.270737515306573, 6.691998429643544, 2.377861643854548, 4.0525089621031825, 5.385865220119839], \"yaxis\": \"y\"}, {\"fill\": \"toself\", \"fillcolor\": \"rgba(31, 119, 180,0.2)\", \"hoverinfo\": \"skip\", \"line\": {\"color\": \"rgba(255,255,255,0)\"}, \"name\": \"Attack-0.001_fill\", \"showlegend\": false, \"type\": \"scatter\", \"x\": [1, 2, 4, 8, 8, 4, 2, 1], \"xaxis\": \"x\", \"y\": [14.601815106256526, 8.063389296322185, 2.6836990809152974, 6.728071535164682, 5.385865220119839, 5.385865220119839, 1.376946389041683, 2.072024206793799, 5.320607562964903, 3.9396599243566204], \"yaxis\": \"y\"}],\n",
       "                        {\"annotations\": [{\"font\": {\"size\": 16}, \"showarrow\": false, \"text\": \"FGSM\", \"x\": 0.5, \"xanchor\": \"center\", \"xref\": \"paper\", \"y\": 1.0, \"yanchor\": \"bottom\", \"yref\": \"paper\"}], \"autosize\": false, \"font\": {\"family\": \"Times\"}, \"height\": 350, \"legend\": {\"bgcolor\": \"rgba(255,255,255,0.5)\", \"bordercolor\": \"rgba(0,0,0,0.2)\", \"borderwidth\": 1, \"font\": {\"size\": 13}, \"x\": 0.96, \"xanchor\": \"right\", \"y\": 0.96, \"yanchor\": \"top\"}, \"margin\": {\"b\": 0, \"l\": 0, \"r\": 0, \"t\": 25}, \"paper_bgcolor\": \"rgba(0,0,0,0)\", \"plot_bgcolor\": \"rgba(255,255,255,0)\", \"template\": {\"data\": {\"bar\": [{\"error_x\": {\"color\": \"#2a3f5f\"}, \"error_y\": {\"color\": \"#2a3f5f\"}, \"marker\": {\"line\": {\"color\": \"#E5ECF6\", \"width\": 0.5}}, \"type\": \"bar\"}], \"barpolar\": [{\"marker\": {\"line\": {\"color\": \"#E5ECF6\", \"width\": 0.5}}, \"type\": \"barpolar\"}], \"carpet\": [{\"aaxis\": {\"endlinecolor\": \"#2a3f5f\", \"gridcolor\": \"white\", \"linecolor\": \"white\", \"minorgridcolor\": \"white\", \"startlinecolor\": \"#2a3f5f\"}, \"baxis\": {\"endlinecolor\": \"#2a3f5f\", \"gridcolor\": \"white\", \"linecolor\": \"white\", \"minorgridcolor\": \"white\", \"startlinecolor\": \"#2a3f5f\"}, \"type\": \"carpet\"}], \"choropleth\": [{\"colorbar\": {\"outlinewidth\": 0, \"ticks\": \"\"}, \"type\": \"choropleth\"}], \"contour\": [{\"colorbar\": {\"outlinewidth\": 0, \"ticks\": \"\"}, \"colorscale\": [[0.0, \"#0d0887\"], [0.1111111111111111, \"#46039f\"], [0.2222222222222222, \"#7201a8\"], [0.3333333333333333, \"#9c179e\"], [0.4444444444444444, \"#bd3786\"], [0.5555555555555556, \"#d8576b\"], [0.6666666666666666, \"#ed7953\"], [0.7777777777777778, \"#fb9f3a\"], [0.8888888888888888, \"#fdca26\"], [1.0, \"#f0f921\"]], \"type\": \"contour\"}], \"contourcarpet\": [{\"colorbar\": {\"outlinewidth\": 0, \"ticks\": \"\"}, \"type\": \"contourcarpet\"}], \"heatmap\": [{\"colorbar\": {\"outlinewidth\": 0, \"ticks\": \"\"}, \"colorscale\": [[0.0, \"#0d0887\"], [0.1111111111111111, \"#46039f\"], [0.2222222222222222, \"#7201a8\"], [0.3333333333333333, \"#9c179e\"], [0.4444444444444444, \"#bd3786\"], [0.5555555555555556, \"#d8576b\"], [0.6666666666666666, \"#ed7953\"], [0.7777777777777778, \"#fb9f3a\"], [0.8888888888888888, \"#fdca26\"], [1.0, \"#f0f921\"]], \"type\": \"heatmap\"}], \"heatmapgl\": [{\"colorbar\": {\"outlinewidth\": 0, \"ticks\": \"\"}, \"colorscale\": [[0.0, \"#0d0887\"], [0.1111111111111111, \"#46039f\"], [0.2222222222222222, \"#7201a8\"], [0.3333333333333333, \"#9c179e\"], [0.4444444444444444, \"#bd3786\"], [0.5555555555555556, \"#d8576b\"], [0.6666666666666666, \"#ed7953\"], [0.7777777777777778, \"#fb9f3a\"], [0.8888888888888888, \"#fdca26\"], [1.0, \"#f0f921\"]], \"type\": \"heatmapgl\"}], \"histogram\": [{\"marker\": {\"colorbar\": {\"outlinewidth\": 0, \"ticks\": \"\"}}, \"type\": \"histogram\"}], \"histogram2d\": [{\"colorbar\": {\"outlinewidth\": 0, \"ticks\": \"\"}, \"colorscale\": [[0.0, \"#0d0887\"], [0.1111111111111111, \"#46039f\"], [0.2222222222222222, \"#7201a8\"], [0.3333333333333333, \"#9c179e\"], [0.4444444444444444, \"#bd3786\"], [0.5555555555555556, \"#d8576b\"], [0.6666666666666666, \"#ed7953\"], [0.7777777777777778, \"#fb9f3a\"], [0.8888888888888888, \"#fdca26\"], [1.0, \"#f0f921\"]], \"type\": \"histogram2d\"}], \"histogram2dcontour\": [{\"colorbar\": {\"outlinewidth\": 0, \"ticks\": \"\"}, \"colorscale\": [[0.0, \"#0d0887\"], [0.1111111111111111, \"#46039f\"], [0.2222222222222222, \"#7201a8\"], [0.3333333333333333, \"#9c179e\"], [0.4444444444444444, \"#bd3786\"], [0.5555555555555556, \"#d8576b\"], [0.6666666666666666, \"#ed7953\"], [0.7777777777777778, \"#fb9f3a\"], [0.8888888888888888, \"#fdca26\"], [1.0, \"#f0f921\"]], \"type\": \"histogram2dcontour\"}], \"mesh3d\": [{\"colorbar\": {\"outlinewidth\": 0, \"ticks\": \"\"}, \"type\": \"mesh3d\"}], \"parcoords\": [{\"line\": {\"colorbar\": {\"outlinewidth\": 0, \"ticks\": \"\"}}, \"type\": \"parcoords\"}], \"pie\": [{\"automargin\": true, \"type\": \"pie\"}], \"scatter\": [{\"marker\": {\"colorbar\": {\"outlinewidth\": 0, \"ticks\": \"\"}}, \"type\": \"scatter\"}], \"scatter3d\": [{\"line\": {\"colorbar\": {\"outlinewidth\": 0, \"ticks\": \"\"}}, \"marker\": {\"colorbar\": {\"outlinewidth\": 0, \"ticks\": \"\"}}, \"type\": \"scatter3d\"}], \"scattercarpet\": [{\"marker\": {\"colorbar\": {\"outlinewidth\": 0, \"ticks\": \"\"}}, \"type\": \"scattercarpet\"}], \"scattergeo\": [{\"marker\": {\"colorbar\": {\"outlinewidth\": 0, \"ticks\": \"\"}}, \"type\": \"scattergeo\"}], \"scattergl\": [{\"marker\": {\"colorbar\": {\"outlinewidth\": 0, \"ticks\": \"\"}}, \"type\": \"scattergl\"}], \"scattermapbox\": [{\"marker\": {\"colorbar\": {\"outlinewidth\": 0, \"ticks\": \"\"}}, \"type\": \"scattermapbox\"}], \"scatterpolar\": [{\"marker\": {\"colorbar\": {\"outlinewidth\": 0, \"ticks\": \"\"}}, \"type\": \"scatterpolar\"}], \"scatterpolargl\": [{\"marker\": {\"colorbar\": {\"outlinewidth\": 0, \"ticks\": \"\"}}, \"type\": \"scatterpolargl\"}], \"scatterternary\": [{\"marker\": {\"colorbar\": {\"outlinewidth\": 0, \"ticks\": \"\"}}, \"type\": \"scatterternary\"}], \"surface\": [{\"colorbar\": {\"outlinewidth\": 0, \"ticks\": \"\"}, \"colorscale\": [[0.0, \"#0d0887\"], [0.1111111111111111, \"#46039f\"], [0.2222222222222222, \"#7201a8\"], [0.3333333333333333, \"#9c179e\"], [0.4444444444444444, \"#bd3786\"], [0.5555555555555556, \"#d8576b\"], [0.6666666666666666, \"#ed7953\"], [0.7777777777777778, \"#fb9f3a\"], [0.8888888888888888, \"#fdca26\"], [1.0, \"#f0f921\"]], \"type\": \"surface\"}], \"table\": [{\"cells\": {\"fill\": {\"color\": \"#EBF0F8\"}, \"line\": {\"color\": \"white\"}}, \"header\": {\"fill\": {\"color\": \"#C8D4E3\"}, \"line\": {\"color\": \"white\"}}, \"type\": \"table\"}]}, \"layout\": {\"annotationdefaults\": {\"arrowcolor\": \"#2a3f5f\", \"arrowhead\": 0, \"arrowwidth\": 1}, \"coloraxis\": {\"colorbar\": {\"outlinewidth\": 0, \"ticks\": \"\"}}, \"colorscale\": {\"diverging\": [[0, \"#8e0152\"], [0.1, \"#c51b7d\"], [0.2, \"#de77ae\"], [0.3, \"#f1b6da\"], [0.4, \"#fde0ef\"], [0.5, \"#f7f7f7\"], [0.6, \"#e6f5d0\"], [0.7, \"#b8e186\"], [0.8, \"#7fbc41\"], [0.9, \"#4d9221\"], [1, \"#276419\"]], \"sequential\": [[0.0, \"#0d0887\"], [0.1111111111111111, \"#46039f\"], [0.2222222222222222, \"#7201a8\"], [0.3333333333333333, \"#9c179e\"], [0.4444444444444444, \"#bd3786\"], [0.5555555555555556, \"#d8576b\"], [0.6666666666666666, \"#ed7953\"], [0.7777777777777778, \"#fb9f3a\"], [0.8888888888888888, \"#fdca26\"], [1.0, \"#f0f921\"]], \"sequentialminus\": [[0.0, \"#0d0887\"], [0.1111111111111111, \"#46039f\"], [0.2222222222222222, \"#7201a8\"], [0.3333333333333333, \"#9c179e\"], [0.4444444444444444, \"#bd3786\"], [0.5555555555555556, \"#d8576b\"], [0.6666666666666666, \"#ed7953\"], [0.7777777777777778, \"#fb9f3a\"], [0.8888888888888888, \"#fdca26\"], [1.0, \"#f0f921\"]]}, \"colorway\": [\"#636efa\", \"#EF553B\", \"#00cc96\", \"#ab63fa\", \"#FFA15A\", \"#19d3f3\", \"#FF6692\", \"#B6E880\", \"#FF97FF\", \"#FECB52\"], \"font\": {\"color\": \"#2a3f5f\"}, \"geo\": {\"bgcolor\": \"white\", \"lakecolor\": \"white\", \"landcolor\": \"#E5ECF6\", \"showlakes\": true, \"showland\": true, \"subunitcolor\": \"white\"}, \"hoverlabel\": {\"align\": \"left\"}, \"hovermode\": \"closest\", \"mapbox\": {\"style\": \"light\"}, \"paper_bgcolor\": \"white\", \"plot_bgcolor\": \"#E5ECF6\", \"polar\": {\"angularaxis\": {\"gridcolor\": \"white\", \"linecolor\": \"white\", \"ticks\": \"\"}, \"bgcolor\": \"#E5ECF6\", \"radialaxis\": {\"gridcolor\": \"white\", \"linecolor\": \"white\", \"ticks\": \"\"}}, \"scene\": {\"xaxis\": {\"backgroundcolor\": \"#E5ECF6\", \"gridcolor\": \"white\", \"gridwidth\": 2, \"linecolor\": \"white\", \"showbackground\": true, \"ticks\": \"\", \"zerolinecolor\": \"white\"}, \"yaxis\": {\"backgroundcolor\": \"#E5ECF6\", \"gridcolor\": \"white\", \"gridwidth\": 2, \"linecolor\": \"white\", \"showbackground\": true, \"ticks\": \"\", \"zerolinecolor\": \"white\"}, \"zaxis\": {\"backgroundcolor\": \"#E5ECF6\", \"gridcolor\": \"white\", \"gridwidth\": 2, \"linecolor\": \"white\", \"showbackground\": true, \"ticks\": \"\", \"zerolinecolor\": \"white\"}}, \"shapedefaults\": {\"line\": {\"color\": \"#2a3f5f\"}}, \"ternary\": {\"aaxis\": {\"gridcolor\": \"white\", \"linecolor\": \"white\", \"ticks\": \"\"}, \"baxis\": {\"gridcolor\": \"white\", \"linecolor\": \"white\", \"ticks\": \"\"}, \"bgcolor\": \"#E5ECF6\", \"caxis\": {\"gridcolor\": \"white\", \"linecolor\": \"white\", \"ticks\": \"\"}}, \"title\": {\"x\": 0.05}, \"xaxis\": {\"automargin\": true, \"gridcolor\": \"white\", \"linecolor\": \"white\", \"ticks\": \"\", \"title\": {\"standoff\": 15}, \"zerolinecolor\": \"white\", \"zerolinewidth\": 2}, \"yaxis\": {\"automargin\": true, \"gridcolor\": \"white\", \"linecolor\": \"white\", \"ticks\": \"\", \"title\": {\"standoff\": 15}, \"zerolinecolor\": \"white\", \"zerolinewidth\": 2}}}, \"width\": 450, \"xaxis\": {\"anchor\": \"y\", \"domain\": [0.0, 1.0], \"gridcolor\": \"rgba(0,0,0,0.1)\", \"linecolor\": \"rgba(0,0,0,1)\", \"mirror\": true, \"showgrid\": true, \"showline\": true, \"showticklabels\": true, \"tickfont\": {\"size\": 18}, \"tickmode\": \"array\", \"ticks\": \"outside\", \"title\": {\"font\": {\"size\": 20}, \"text\": \"Model Size\"}}, \"yaxis\": {\"anchor\": \"x\", \"domain\": [0.0, 1.0], \"gridcolor\": \"rgba(0,0,0,0.1)\", \"linecolor\": \"rgba(0,0,0,1)\", \"mirror\": true, \"showgrid\": true, \"showline\": true, \"showticklabels\": true, \"tickfont\": {\"size\": 18}, \"tickmode\": \"array\", \"ticks\": \"outside\", \"title\": {\"font\": {\"size\": 20}, \"text\": \"Test Accuracy\"}}},\n",
       "                        {\"responsive\": true}\n",
       "                    ).then(function(){\n",
       "                            \n",
       "var gd = document.getElementById('4982ae54-4431-4cc0-b4bc-2fc1112fa0a4');\n",
       "var x = new MutationObserver(function (mutations, observer) {{\n",
       "        var display = window.getComputedStyle(gd).display;\n",
       "        if (!display || display === 'none') {{\n",
       "            console.log([gd, 'removed!']);\n",
       "            Plotly.purge(gd);\n",
       "            observer.disconnect();\n",
       "        }}\n",
       "}});\n",
       "\n",
       "// Listen for the removal of the full notebook cells\n",
       "var notebookContainer = gd.closest('#notebook-container');\n",
       "if (notebookContainer) {{\n",
       "    x.observe(notebookContainer, {childList: true});\n",
       "}}\n",
       "\n",
       "// Listen for the clearing of the current output cell\n",
       "var outputEl = gd.closest('.output');\n",
       "if (outputEl) {{\n",
       "    x.observe(outputEl, {childList: true});\n",
       "}}\n",
       "\n",
       "                        })\n",
       "                };\n",
       "                });\n",
       "            </script>\n",
       "        </div>"
      ]
     },
     "metadata": {},
     "output_type": "display_data"
    }
   ],
   "source": [
    "plot_res(root_dir,attack_method='FGSM')"
   ]
  },
  {
   "cell_type": "code",
   "execution_count": 87,
   "metadata": {
    "ExecuteTime": {
     "end_time": "2021-04-15T06:07:00.548819Z",
     "start_time": "2021-04-15T06:07:00.445049Z"
    }
   },
   "outputs": [
    {
     "name": "stderr",
     "output_type": "stream",
     "text": [
      "/h/zycluke/miniconda3/envs/al/lib/python3.7/site-packages/ipykernel_launcher.py:28: RuntimeWarning:\n",
      "\n",
      "Mean of empty slice\n",
      "\n",
      "/h/zycluke/miniconda3/envs/al/lib/python3.7/site-packages/numpy/lib/nanfunctions.py:1667: RuntimeWarning:\n",
      "\n",
      "Degrees of freedom <= 0 for slice.\n",
      "\n"
     ]
    },
    {
     "data": {
      "application/vnd.plotly.v1+json": {
       "config": {
        "plotlyServerURL": "https://plot.ly"
       },
       "data": [
        {
         "line": {
          "color": "rgb(148, 103, 189)",
          "dash": "solid"
         },
         "marker": {
          "color": "rgb(148, 103, 189)",
          "size": 8,
          "symbol": "circle"
         },
         "name": "Attack-0.1",
         "showlegend": true,
         "text": [
          "nan±nan",
          "nan±nan",
          "nan±nan",
          "nan±nan",
          "nan±nan"
         ],
         "type": "scatter",
         "x": [
          1,
          2,
          4,
          8
         ],
         "xaxis": "x",
         "y": [
          null,
          null,
          null,
          null,
          null
         ],
         "yaxis": "y"
        },
        {
         "fill": "toself",
         "fillcolor": "rgba(148, 103, 189,0.2)",
         "hoverinfo": "skip",
         "line": {
          "color": "rgba(255,255,255,0)"
         },
         "name": "Attack-0.1_fill",
         "showlegend": false,
         "type": "scatter",
         "x": [
          1,
          2,
          4,
          8,
          8,
          4,
          2,
          1
         ],
         "xaxis": "x",
         "y": [
          null,
          null,
          null,
          null,
          null,
          null,
          null,
          null,
          null,
          null
         ],
         "yaxis": "y"
        },
        {
         "line": {
          "color": "rgb(255, 127, 14)",
          "dash": "solid"
         },
         "marker": {
          "color": "rgb(255, 127, 14)",
          "size": 8,
          "symbol": "cross"
         },
         "name": "Attack-0.3",
         "showlegend": true,
         "text": [
          "nan±nan",
          "nan±nan",
          "nan±nan",
          "nan±nan",
          "nan±nan"
         ],
         "type": "scatter",
         "x": [
          1,
          2,
          4,
          8
         ],
         "xaxis": "x",
         "y": [
          null,
          null,
          null,
          null,
          null
         ],
         "yaxis": "y"
        },
        {
         "fill": "toself",
         "fillcolor": "rgba(255, 127, 14,0.2)",
         "hoverinfo": "skip",
         "line": {
          "color": "rgba(255,255,255,0)"
         },
         "name": "Attack-0.3_fill",
         "showlegend": false,
         "type": "scatter",
         "x": [
          1,
          2,
          4,
          8,
          8,
          4,
          2,
          1
         ],
         "xaxis": "x",
         "y": [
          null,
          null,
          null,
          null,
          null,
          null,
          null,
          null,
          null,
          null
         ],
         "yaxis": "y"
        },
        {
         "line": {
          "color": "rgb(140, 86, 75)",
          "dash": "solid"
         },
         "marker": {
          "color": "rgb(140, 86, 75)",
          "size": 8,
          "symbol": "hexagon"
         },
         "name": "Attack-0.7",
         "showlegend": true,
         "text": [
          "nan±nan",
          "nan±nan",
          "nan±nan",
          "nan±nan",
          "nan±nan"
         ],
         "type": "scatter",
         "x": [
          1,
          2,
          4,
          8
         ],
         "xaxis": "x",
         "y": [
          null,
          null,
          null,
          null,
          null
         ],
         "yaxis": "y"
        },
        {
         "fill": "toself",
         "fillcolor": "rgba(140, 86, 75,0.2)",
         "hoverinfo": "skip",
         "line": {
          "color": "rgba(255,255,255,0)"
         },
         "name": "Attack-0.7_fill",
         "showlegend": false,
         "type": "scatter",
         "x": [
          1,
          2,
          4,
          8,
          8,
          4,
          2,
          1
         ],
         "xaxis": "x",
         "y": [
          null,
          null,
          null,
          null,
          null,
          null,
          null,
          null,
          null,
          null
         ],
         "yaxis": "y"
        },
        {
         "line": {
          "color": "rgb(227, 119, 194)",
          "dash": "solid"
         },
         "marker": {
          "color": "rgb(227, 119, 194)",
          "size": 8,
          "symbol": "diamond"
         },
         "name": "Attack-0.01",
         "showlegend": true,
         "text": [
          "nan±nan",
          "nan±nan",
          "nan±nan",
          "nan±nan",
          "nan±nan"
         ],
         "type": "scatter",
         "x": [
          1,
          2,
          4,
          8
         ],
         "xaxis": "x",
         "y": [
          null,
          null,
          null,
          null,
          null
         ],
         "yaxis": "y"
        },
        {
         "fill": "toself",
         "fillcolor": "rgba(227, 119, 194,0.2)",
         "hoverinfo": "skip",
         "line": {
          "color": "rgba(255,255,255,0)"
         },
         "name": "Attack-0.01_fill",
         "showlegend": false,
         "type": "scatter",
         "x": [
          1,
          2,
          4,
          8,
          8,
          4,
          2,
          1
         ],
         "xaxis": "x",
         "y": [
          null,
          null,
          null,
          null,
          null,
          null,
          null,
          null,
          null,
          null
         ],
         "yaxis": "y"
        },
        {
         "line": {
          "color": "rgb(44, 160, 44)",
          "dash": "solid"
         },
         "marker": {
          "color": "rgb(44, 160, 44)",
          "size": 8,
          "symbol": "x"
         },
         "name": "Attack-0.03",
         "showlegend": true,
         "text": [
          "nan±nan",
          "nan±nan",
          "nan±nan",
          "nan±nan",
          "nan±nan"
         ],
         "type": "scatter",
         "x": [
          1,
          2,
          4,
          8
         ],
         "xaxis": "x",
         "y": [
          null,
          null,
          null,
          null,
          null
         ],
         "yaxis": "y"
        },
        {
         "fill": "toself",
         "fillcolor": "rgba(44, 160, 44,0.2)",
         "hoverinfo": "skip",
         "line": {
          "color": "rgba(255,255,255,0)"
         },
         "name": "Attack-0.03_fill",
         "showlegend": false,
         "type": "scatter",
         "x": [
          1,
          2,
          4,
          8,
          8,
          4,
          2,
          1
         ],
         "xaxis": "x",
         "y": [
          null,
          null,
          null,
          null,
          null,
          null,
          null,
          null,
          null,
          null
         ],
         "yaxis": "y"
        },
        {
         "line": {
          "color": "rgb(31, 119, 180)",
          "dash": "solid"
         },
         "marker": {
          "color": "rgb(31, 119, 180)",
          "size": 8,
          "symbol": "square"
         },
         "name": "Attack-0.001",
         "showlegend": true,
         "text": [
          "nan±nan",
          "nan±nan",
          "nan±nan",
          "nan±nan",
          "nan±nan"
         ],
         "type": "scatter",
         "x": [
          1,
          2,
          4,
          8
         ],
         "xaxis": "x",
         "y": [
          null,
          null,
          null,
          null,
          null
         ],
         "yaxis": "y"
        },
        {
         "fill": "toself",
         "fillcolor": "rgba(31, 119, 180,0.2)",
         "hoverinfo": "skip",
         "line": {
          "color": "rgba(255,255,255,0)"
         },
         "name": "Attack-0.001_fill",
         "showlegend": false,
         "type": "scatter",
         "x": [
          1,
          2,
          4,
          8,
          8,
          4,
          2,
          1
         ],
         "xaxis": "x",
         "y": [
          null,
          null,
          null,
          null,
          null,
          null,
          null,
          null,
          null,
          null
         ],
         "yaxis": "y"
        }
       ],
       "layout": {
        "annotations": [
         {
          "font": {
           "size": 16
          },
          "showarrow": false,
          "text": "FAB",
          "x": 0.5,
          "xanchor": "center",
          "xref": "paper",
          "y": 1,
          "yanchor": "bottom",
          "yref": "paper"
         }
        ],
        "autosize": false,
        "font": {
         "family": "Times"
        },
        "height": 350,
        "legend": {
         "bgcolor": "rgba(255,255,255,0.5)",
         "bordercolor": "rgba(0,0,0,0.2)",
         "borderwidth": 1,
         "font": {
          "size": 13
         },
         "x": 0.96,
         "xanchor": "right",
         "y": 0.96,
         "yanchor": "top"
        },
        "margin": {
         "b": 0,
         "l": 0,
         "r": 0,
         "t": 25
        },
        "paper_bgcolor": "rgba(0,0,0,0)",
        "plot_bgcolor": "rgba(255,255,255,0)",
        "template": {
         "data": {
          "bar": [
           {
            "error_x": {
             "color": "#2a3f5f"
            },
            "error_y": {
             "color": "#2a3f5f"
            },
            "marker": {
             "line": {
              "color": "#E5ECF6",
              "width": 0.5
             }
            },
            "type": "bar"
           }
          ],
          "barpolar": [
           {
            "marker": {
             "line": {
              "color": "#E5ECF6",
              "width": 0.5
             }
            },
            "type": "barpolar"
           }
          ],
          "carpet": [
           {
            "aaxis": {
             "endlinecolor": "#2a3f5f",
             "gridcolor": "white",
             "linecolor": "white",
             "minorgridcolor": "white",
             "startlinecolor": "#2a3f5f"
            },
            "baxis": {
             "endlinecolor": "#2a3f5f",
             "gridcolor": "white",
             "linecolor": "white",
             "minorgridcolor": "white",
             "startlinecolor": "#2a3f5f"
            },
            "type": "carpet"
           }
          ],
          "choropleth": [
           {
            "colorbar": {
             "outlinewidth": 0,
             "ticks": ""
            },
            "type": "choropleth"
           }
          ],
          "contour": [
           {
            "colorbar": {
             "outlinewidth": 0,
             "ticks": ""
            },
            "colorscale": [
             [
              0,
              "#0d0887"
             ],
             [
              0.1111111111111111,
              "#46039f"
             ],
             [
              0.2222222222222222,
              "#7201a8"
             ],
             [
              0.3333333333333333,
              "#9c179e"
             ],
             [
              0.4444444444444444,
              "#bd3786"
             ],
             [
              0.5555555555555556,
              "#d8576b"
             ],
             [
              0.6666666666666666,
              "#ed7953"
             ],
             [
              0.7777777777777778,
              "#fb9f3a"
             ],
             [
              0.8888888888888888,
              "#fdca26"
             ],
             [
              1,
              "#f0f921"
             ]
            ],
            "type": "contour"
           }
          ],
          "contourcarpet": [
           {
            "colorbar": {
             "outlinewidth": 0,
             "ticks": ""
            },
            "type": "contourcarpet"
           }
          ],
          "heatmap": [
           {
            "colorbar": {
             "outlinewidth": 0,
             "ticks": ""
            },
            "colorscale": [
             [
              0,
              "#0d0887"
             ],
             [
              0.1111111111111111,
              "#46039f"
             ],
             [
              0.2222222222222222,
              "#7201a8"
             ],
             [
              0.3333333333333333,
              "#9c179e"
             ],
             [
              0.4444444444444444,
              "#bd3786"
             ],
             [
              0.5555555555555556,
              "#d8576b"
             ],
             [
              0.6666666666666666,
              "#ed7953"
             ],
             [
              0.7777777777777778,
              "#fb9f3a"
             ],
             [
              0.8888888888888888,
              "#fdca26"
             ],
             [
              1,
              "#f0f921"
             ]
            ],
            "type": "heatmap"
           }
          ],
          "heatmapgl": [
           {
            "colorbar": {
             "outlinewidth": 0,
             "ticks": ""
            },
            "colorscale": [
             [
              0,
              "#0d0887"
             ],
             [
              0.1111111111111111,
              "#46039f"
             ],
             [
              0.2222222222222222,
              "#7201a8"
             ],
             [
              0.3333333333333333,
              "#9c179e"
             ],
             [
              0.4444444444444444,
              "#bd3786"
             ],
             [
              0.5555555555555556,
              "#d8576b"
             ],
             [
              0.6666666666666666,
              "#ed7953"
             ],
             [
              0.7777777777777778,
              "#fb9f3a"
             ],
             [
              0.8888888888888888,
              "#fdca26"
             ],
             [
              1,
              "#f0f921"
             ]
            ],
            "type": "heatmapgl"
           }
          ],
          "histogram": [
           {
            "marker": {
             "colorbar": {
              "outlinewidth": 0,
              "ticks": ""
             }
            },
            "type": "histogram"
           }
          ],
          "histogram2d": [
           {
            "colorbar": {
             "outlinewidth": 0,
             "ticks": ""
            },
            "colorscale": [
             [
              0,
              "#0d0887"
             ],
             [
              0.1111111111111111,
              "#46039f"
             ],
             [
              0.2222222222222222,
              "#7201a8"
             ],
             [
              0.3333333333333333,
              "#9c179e"
             ],
             [
              0.4444444444444444,
              "#bd3786"
             ],
             [
              0.5555555555555556,
              "#d8576b"
             ],
             [
              0.6666666666666666,
              "#ed7953"
             ],
             [
              0.7777777777777778,
              "#fb9f3a"
             ],
             [
              0.8888888888888888,
              "#fdca26"
             ],
             [
              1,
              "#f0f921"
             ]
            ],
            "type": "histogram2d"
           }
          ],
          "histogram2dcontour": [
           {
            "colorbar": {
             "outlinewidth": 0,
             "ticks": ""
            },
            "colorscale": [
             [
              0,
              "#0d0887"
             ],
             [
              0.1111111111111111,
              "#46039f"
             ],
             [
              0.2222222222222222,
              "#7201a8"
             ],
             [
              0.3333333333333333,
              "#9c179e"
             ],
             [
              0.4444444444444444,
              "#bd3786"
             ],
             [
              0.5555555555555556,
              "#d8576b"
             ],
             [
              0.6666666666666666,
              "#ed7953"
             ],
             [
              0.7777777777777778,
              "#fb9f3a"
             ],
             [
              0.8888888888888888,
              "#fdca26"
             ],
             [
              1,
              "#f0f921"
             ]
            ],
            "type": "histogram2dcontour"
           }
          ],
          "mesh3d": [
           {
            "colorbar": {
             "outlinewidth": 0,
             "ticks": ""
            },
            "type": "mesh3d"
           }
          ],
          "parcoords": [
           {
            "line": {
             "colorbar": {
              "outlinewidth": 0,
              "ticks": ""
             }
            },
            "type": "parcoords"
           }
          ],
          "pie": [
           {
            "automargin": true,
            "type": "pie"
           }
          ],
          "scatter": [
           {
            "marker": {
             "colorbar": {
              "outlinewidth": 0,
              "ticks": ""
             }
            },
            "type": "scatter"
           }
          ],
          "scatter3d": [
           {
            "line": {
             "colorbar": {
              "outlinewidth": 0,
              "ticks": ""
             }
            },
            "marker": {
             "colorbar": {
              "outlinewidth": 0,
              "ticks": ""
             }
            },
            "type": "scatter3d"
           }
          ],
          "scattercarpet": [
           {
            "marker": {
             "colorbar": {
              "outlinewidth": 0,
              "ticks": ""
             }
            },
            "type": "scattercarpet"
           }
          ],
          "scattergeo": [
           {
            "marker": {
             "colorbar": {
              "outlinewidth": 0,
              "ticks": ""
             }
            },
            "type": "scattergeo"
           }
          ],
          "scattergl": [
           {
            "marker": {
             "colorbar": {
              "outlinewidth": 0,
              "ticks": ""
             }
            },
            "type": "scattergl"
           }
          ],
          "scattermapbox": [
           {
            "marker": {
             "colorbar": {
              "outlinewidth": 0,
              "ticks": ""
             }
            },
            "type": "scattermapbox"
           }
          ],
          "scatterpolar": [
           {
            "marker": {
             "colorbar": {
              "outlinewidth": 0,
              "ticks": ""
             }
            },
            "type": "scatterpolar"
           }
          ],
          "scatterpolargl": [
           {
            "marker": {
             "colorbar": {
              "outlinewidth": 0,
              "ticks": ""
             }
            },
            "type": "scatterpolargl"
           }
          ],
          "scatterternary": [
           {
            "marker": {
             "colorbar": {
              "outlinewidth": 0,
              "ticks": ""
             }
            },
            "type": "scatterternary"
           }
          ],
          "surface": [
           {
            "colorbar": {
             "outlinewidth": 0,
             "ticks": ""
            },
            "colorscale": [
             [
              0,
              "#0d0887"
             ],
             [
              0.1111111111111111,
              "#46039f"
             ],
             [
              0.2222222222222222,
              "#7201a8"
             ],
             [
              0.3333333333333333,
              "#9c179e"
             ],
             [
              0.4444444444444444,
              "#bd3786"
             ],
             [
              0.5555555555555556,
              "#d8576b"
             ],
             [
              0.6666666666666666,
              "#ed7953"
             ],
             [
              0.7777777777777778,
              "#fb9f3a"
             ],
             [
              0.8888888888888888,
              "#fdca26"
             ],
             [
              1,
              "#f0f921"
             ]
            ],
            "type": "surface"
           }
          ],
          "table": [
           {
            "cells": {
             "fill": {
              "color": "#EBF0F8"
             },
             "line": {
              "color": "white"
             }
            },
            "header": {
             "fill": {
              "color": "#C8D4E3"
             },
             "line": {
              "color": "white"
             }
            },
            "type": "table"
           }
          ]
         },
         "layout": {
          "annotationdefaults": {
           "arrowcolor": "#2a3f5f",
           "arrowhead": 0,
           "arrowwidth": 1
          },
          "coloraxis": {
           "colorbar": {
            "outlinewidth": 0,
            "ticks": ""
           }
          },
          "colorscale": {
           "diverging": [
            [
             0,
             "#8e0152"
            ],
            [
             0.1,
             "#c51b7d"
            ],
            [
             0.2,
             "#de77ae"
            ],
            [
             0.3,
             "#f1b6da"
            ],
            [
             0.4,
             "#fde0ef"
            ],
            [
             0.5,
             "#f7f7f7"
            ],
            [
             0.6,
             "#e6f5d0"
            ],
            [
             0.7,
             "#b8e186"
            ],
            [
             0.8,
             "#7fbc41"
            ],
            [
             0.9,
             "#4d9221"
            ],
            [
             1,
             "#276419"
            ]
           ],
           "sequential": [
            [
             0,
             "#0d0887"
            ],
            [
             0.1111111111111111,
             "#46039f"
            ],
            [
             0.2222222222222222,
             "#7201a8"
            ],
            [
             0.3333333333333333,
             "#9c179e"
            ],
            [
             0.4444444444444444,
             "#bd3786"
            ],
            [
             0.5555555555555556,
             "#d8576b"
            ],
            [
             0.6666666666666666,
             "#ed7953"
            ],
            [
             0.7777777777777778,
             "#fb9f3a"
            ],
            [
             0.8888888888888888,
             "#fdca26"
            ],
            [
             1,
             "#f0f921"
            ]
           ],
           "sequentialminus": [
            [
             0,
             "#0d0887"
            ],
            [
             0.1111111111111111,
             "#46039f"
            ],
            [
             0.2222222222222222,
             "#7201a8"
            ],
            [
             0.3333333333333333,
             "#9c179e"
            ],
            [
             0.4444444444444444,
             "#bd3786"
            ],
            [
             0.5555555555555556,
             "#d8576b"
            ],
            [
             0.6666666666666666,
             "#ed7953"
            ],
            [
             0.7777777777777778,
             "#fb9f3a"
            ],
            [
             0.8888888888888888,
             "#fdca26"
            ],
            [
             1,
             "#f0f921"
            ]
           ]
          },
          "colorway": [
           "#636efa",
           "#EF553B",
           "#00cc96",
           "#ab63fa",
           "#FFA15A",
           "#19d3f3",
           "#FF6692",
           "#B6E880",
           "#FF97FF",
           "#FECB52"
          ],
          "font": {
           "color": "#2a3f5f"
          },
          "geo": {
           "bgcolor": "white",
           "lakecolor": "white",
           "landcolor": "#E5ECF6",
           "showlakes": true,
           "showland": true,
           "subunitcolor": "white"
          },
          "hoverlabel": {
           "align": "left"
          },
          "hovermode": "closest",
          "mapbox": {
           "style": "light"
          },
          "paper_bgcolor": "white",
          "plot_bgcolor": "#E5ECF6",
          "polar": {
           "angularaxis": {
            "gridcolor": "white",
            "linecolor": "white",
            "ticks": ""
           },
           "bgcolor": "#E5ECF6",
           "radialaxis": {
            "gridcolor": "white",
            "linecolor": "white",
            "ticks": ""
           }
          },
          "scene": {
           "xaxis": {
            "backgroundcolor": "#E5ECF6",
            "gridcolor": "white",
            "gridwidth": 2,
            "linecolor": "white",
            "showbackground": true,
            "ticks": "",
            "zerolinecolor": "white"
           },
           "yaxis": {
            "backgroundcolor": "#E5ECF6",
            "gridcolor": "white",
            "gridwidth": 2,
            "linecolor": "white",
            "showbackground": true,
            "ticks": "",
            "zerolinecolor": "white"
           },
           "zaxis": {
            "backgroundcolor": "#E5ECF6",
            "gridcolor": "white",
            "gridwidth": 2,
            "linecolor": "white",
            "showbackground": true,
            "ticks": "",
            "zerolinecolor": "white"
           }
          },
          "shapedefaults": {
           "line": {
            "color": "#2a3f5f"
           }
          },
          "ternary": {
           "aaxis": {
            "gridcolor": "white",
            "linecolor": "white",
            "ticks": ""
           },
           "baxis": {
            "gridcolor": "white",
            "linecolor": "white",
            "ticks": ""
           },
           "bgcolor": "#E5ECF6",
           "caxis": {
            "gridcolor": "white",
            "linecolor": "white",
            "ticks": ""
           }
          },
          "title": {
           "x": 0.05
          },
          "xaxis": {
           "automargin": true,
           "gridcolor": "white",
           "linecolor": "white",
           "ticks": "",
           "title": {
            "standoff": 15
           },
           "zerolinecolor": "white",
           "zerolinewidth": 2
          },
          "yaxis": {
           "automargin": true,
           "gridcolor": "white",
           "linecolor": "white",
           "ticks": "",
           "title": {
            "standoff": 15
           },
           "zerolinecolor": "white",
           "zerolinewidth": 2
          }
         }
        },
        "width": 450,
        "xaxis": {
         "anchor": "y",
         "domain": [
          0,
          1
         ],
         "gridcolor": "rgba(0,0,0,0.1)",
         "linecolor": "rgba(0,0,0,1)",
         "mirror": true,
         "showgrid": true,
         "showline": true,
         "showticklabels": true,
         "tickfont": {
          "size": 18
         },
         "tickmode": "array",
         "ticks": "outside",
         "title": {
          "font": {
           "size": 20
          },
          "text": "Model Size"
         }
        },
        "yaxis": {
         "anchor": "x",
         "domain": [
          0,
          1
         ],
         "gridcolor": "rgba(0,0,0,0.1)",
         "linecolor": "rgba(0,0,0,1)",
         "mirror": true,
         "showgrid": true,
         "showline": true,
         "showticklabels": true,
         "tickfont": {
          "size": 18
         },
         "tickmode": "array",
         "ticks": "outside",
         "title": {
          "font": {
           "size": 20
          },
          "text": "Test Accuracy"
         }
        }
       }
      },
      "text/html": [
       "<div>\n",
       "        \n",
       "        \n",
       "            <div id=\"96c9c63d-cebe-472a-bfa1-fc28cd75397b\" class=\"plotly-graph-div\" style=\"height:350px; width:450px;\"></div>\n",
       "            <script type=\"text/javascript\">\n",
       "                require([\"plotly\"], function(Plotly) {\n",
       "                    window.PLOTLYENV=window.PLOTLYENV || {};\n",
       "                    \n",
       "                if (document.getElementById(\"96c9c63d-cebe-472a-bfa1-fc28cd75397b\")) {\n",
       "                    Plotly.newPlot(\n",
       "                        '96c9c63d-cebe-472a-bfa1-fc28cd75397b',\n",
       "                        [{\"line\": {\"color\": \"rgb(148, 103, 189)\", \"dash\": \"solid\"}, \"marker\": {\"color\": \"rgb(148, 103, 189)\", \"size\": 8, \"symbol\": \"circle\"}, \"name\": \"Attack-0.1\", \"showlegend\": true, \"text\": [\"nan\\u00b1nan\", \"nan\\u00b1nan\", \"nan\\u00b1nan\", \"nan\\u00b1nan\", \"nan\\u00b1nan\"], \"type\": \"scatter\", \"x\": [1, 2, 4, 8], \"xaxis\": \"x\", \"y\": [null, null, null, null, null], \"yaxis\": \"y\"}, {\"fill\": \"toself\", \"fillcolor\": \"rgba(148, 103, 189,0.2)\", \"hoverinfo\": \"skip\", \"line\": {\"color\": \"rgba(255,255,255,0)\"}, \"name\": \"Attack-0.1_fill\", \"showlegend\": false, \"type\": \"scatter\", \"x\": [1, 2, 4, 8, 8, 4, 2, 1], \"xaxis\": \"x\", \"y\": [null, null, null, null, null, null, null, null, null, null], \"yaxis\": \"y\"}, {\"line\": {\"color\": \"rgb(255, 127, 14)\", \"dash\": \"solid\"}, \"marker\": {\"color\": \"rgb(255, 127, 14)\", \"size\": 8, \"symbol\": \"cross\"}, \"name\": \"Attack-0.3\", \"showlegend\": true, \"text\": [\"nan\\u00b1nan\", \"nan\\u00b1nan\", \"nan\\u00b1nan\", \"nan\\u00b1nan\", \"nan\\u00b1nan\"], \"type\": \"scatter\", \"x\": [1, 2, 4, 8], \"xaxis\": \"x\", \"y\": [null, null, null, null, null], \"yaxis\": \"y\"}, {\"fill\": \"toself\", \"fillcolor\": \"rgba(255, 127, 14,0.2)\", \"hoverinfo\": \"skip\", \"line\": {\"color\": \"rgba(255,255,255,0)\"}, \"name\": \"Attack-0.3_fill\", \"showlegend\": false, \"type\": \"scatter\", \"x\": [1, 2, 4, 8, 8, 4, 2, 1], \"xaxis\": \"x\", \"y\": [null, null, null, null, null, null, null, null, null, null], \"yaxis\": \"y\"}, {\"line\": {\"color\": \"rgb(140, 86, 75)\", \"dash\": \"solid\"}, \"marker\": {\"color\": \"rgb(140, 86, 75)\", \"size\": 8, \"symbol\": \"hexagon\"}, \"name\": \"Attack-0.7\", \"showlegend\": true, \"text\": [\"nan\\u00b1nan\", \"nan\\u00b1nan\", \"nan\\u00b1nan\", \"nan\\u00b1nan\", \"nan\\u00b1nan\"], \"type\": \"scatter\", \"x\": [1, 2, 4, 8], \"xaxis\": \"x\", \"y\": [null, null, null, null, null], \"yaxis\": \"y\"}, {\"fill\": \"toself\", \"fillcolor\": \"rgba(140, 86, 75,0.2)\", \"hoverinfo\": \"skip\", \"line\": {\"color\": \"rgba(255,255,255,0)\"}, \"name\": \"Attack-0.7_fill\", \"showlegend\": false, \"type\": \"scatter\", \"x\": [1, 2, 4, 8, 8, 4, 2, 1], \"xaxis\": \"x\", \"y\": [null, null, null, null, null, null, null, null, null, null], \"yaxis\": \"y\"}, {\"line\": {\"color\": \"rgb(227, 119, 194)\", \"dash\": \"solid\"}, \"marker\": {\"color\": \"rgb(227, 119, 194)\", \"size\": 8, \"symbol\": \"diamond\"}, \"name\": \"Attack-0.01\", \"showlegend\": true, \"text\": [\"nan\\u00b1nan\", \"nan\\u00b1nan\", \"nan\\u00b1nan\", \"nan\\u00b1nan\", \"nan\\u00b1nan\"], \"type\": \"scatter\", \"x\": [1, 2, 4, 8], \"xaxis\": \"x\", \"y\": [null, null, null, null, null], \"yaxis\": \"y\"}, {\"fill\": \"toself\", \"fillcolor\": \"rgba(227, 119, 194,0.2)\", \"hoverinfo\": \"skip\", \"line\": {\"color\": \"rgba(255,255,255,0)\"}, \"name\": \"Attack-0.01_fill\", \"showlegend\": false, \"type\": \"scatter\", \"x\": [1, 2, 4, 8, 8, 4, 2, 1], \"xaxis\": \"x\", \"y\": [null, null, null, null, null, null, null, null, null, null], \"yaxis\": \"y\"}, {\"line\": {\"color\": \"rgb(44, 160, 44)\", \"dash\": \"solid\"}, \"marker\": {\"color\": \"rgb(44, 160, 44)\", \"size\": 8, \"symbol\": \"x\"}, \"name\": \"Attack-0.03\", \"showlegend\": true, \"text\": [\"nan\\u00b1nan\", \"nan\\u00b1nan\", \"nan\\u00b1nan\", \"nan\\u00b1nan\", \"nan\\u00b1nan\"], \"type\": \"scatter\", \"x\": [1, 2, 4, 8], \"xaxis\": \"x\", \"y\": [null, null, null, null, null], \"yaxis\": \"y\"}, {\"fill\": \"toself\", \"fillcolor\": \"rgba(44, 160, 44,0.2)\", \"hoverinfo\": \"skip\", \"line\": {\"color\": \"rgba(255,255,255,0)\"}, \"name\": \"Attack-0.03_fill\", \"showlegend\": false, \"type\": \"scatter\", \"x\": [1, 2, 4, 8, 8, 4, 2, 1], \"xaxis\": \"x\", \"y\": [null, null, null, null, null, null, null, null, null, null], \"yaxis\": \"y\"}, {\"line\": {\"color\": \"rgb(31, 119, 180)\", \"dash\": \"solid\"}, \"marker\": {\"color\": \"rgb(31, 119, 180)\", \"size\": 8, \"symbol\": \"square\"}, \"name\": \"Attack-0.001\", \"showlegend\": true, \"text\": [\"nan\\u00b1nan\", \"nan\\u00b1nan\", \"nan\\u00b1nan\", \"nan\\u00b1nan\", \"nan\\u00b1nan\"], \"type\": \"scatter\", \"x\": [1, 2, 4, 8], \"xaxis\": \"x\", \"y\": [null, null, null, null, null], \"yaxis\": \"y\"}, {\"fill\": \"toself\", \"fillcolor\": \"rgba(31, 119, 180,0.2)\", \"hoverinfo\": \"skip\", \"line\": {\"color\": \"rgba(255,255,255,0)\"}, \"name\": \"Attack-0.001_fill\", \"showlegend\": false, \"type\": \"scatter\", \"x\": [1, 2, 4, 8, 8, 4, 2, 1], \"xaxis\": \"x\", \"y\": [null, null, null, null, null, null, null, null, null, null], \"yaxis\": \"y\"}],\n",
       "                        {\"annotations\": [{\"font\": {\"size\": 16}, \"showarrow\": false, \"text\": \"FAB\", \"x\": 0.5, \"xanchor\": \"center\", \"xref\": \"paper\", \"y\": 1.0, \"yanchor\": \"bottom\", \"yref\": \"paper\"}], \"autosize\": false, \"font\": {\"family\": \"Times\"}, \"height\": 350, \"legend\": {\"bgcolor\": \"rgba(255,255,255,0.5)\", \"bordercolor\": \"rgba(0,0,0,0.2)\", \"borderwidth\": 1, \"font\": {\"size\": 13}, \"x\": 0.96, \"xanchor\": \"right\", \"y\": 0.96, \"yanchor\": \"top\"}, \"margin\": {\"b\": 0, \"l\": 0, \"r\": 0, \"t\": 25}, \"paper_bgcolor\": \"rgba(0,0,0,0)\", \"plot_bgcolor\": \"rgba(255,255,255,0)\", \"template\": {\"data\": {\"bar\": [{\"error_x\": {\"color\": \"#2a3f5f\"}, \"error_y\": {\"color\": \"#2a3f5f\"}, \"marker\": {\"line\": {\"color\": \"#E5ECF6\", \"width\": 0.5}}, \"type\": \"bar\"}], \"barpolar\": [{\"marker\": {\"line\": {\"color\": \"#E5ECF6\", \"width\": 0.5}}, \"type\": \"barpolar\"}], \"carpet\": [{\"aaxis\": {\"endlinecolor\": \"#2a3f5f\", \"gridcolor\": \"white\", \"linecolor\": \"white\", \"minorgridcolor\": \"white\", \"startlinecolor\": \"#2a3f5f\"}, \"baxis\": {\"endlinecolor\": \"#2a3f5f\", \"gridcolor\": \"white\", \"linecolor\": \"white\", \"minorgridcolor\": \"white\", \"startlinecolor\": \"#2a3f5f\"}, \"type\": \"carpet\"}], \"choropleth\": [{\"colorbar\": {\"outlinewidth\": 0, \"ticks\": \"\"}, \"type\": \"choropleth\"}], \"contour\": [{\"colorbar\": {\"outlinewidth\": 0, \"ticks\": \"\"}, \"colorscale\": [[0.0, \"#0d0887\"], [0.1111111111111111, \"#46039f\"], [0.2222222222222222, \"#7201a8\"], [0.3333333333333333, \"#9c179e\"], [0.4444444444444444, \"#bd3786\"], [0.5555555555555556, \"#d8576b\"], [0.6666666666666666, \"#ed7953\"], [0.7777777777777778, \"#fb9f3a\"], [0.8888888888888888, \"#fdca26\"], [1.0, \"#f0f921\"]], \"type\": \"contour\"}], \"contourcarpet\": [{\"colorbar\": {\"outlinewidth\": 0, \"ticks\": \"\"}, \"type\": \"contourcarpet\"}], \"heatmap\": [{\"colorbar\": {\"outlinewidth\": 0, \"ticks\": \"\"}, \"colorscale\": [[0.0, \"#0d0887\"], [0.1111111111111111, \"#46039f\"], [0.2222222222222222, \"#7201a8\"], [0.3333333333333333, \"#9c179e\"], [0.4444444444444444, \"#bd3786\"], [0.5555555555555556, \"#d8576b\"], [0.6666666666666666, \"#ed7953\"], [0.7777777777777778, \"#fb9f3a\"], [0.8888888888888888, \"#fdca26\"], [1.0, \"#f0f921\"]], \"type\": \"heatmap\"}], \"heatmapgl\": [{\"colorbar\": {\"outlinewidth\": 0, \"ticks\": \"\"}, \"colorscale\": [[0.0, \"#0d0887\"], [0.1111111111111111, \"#46039f\"], [0.2222222222222222, \"#7201a8\"], [0.3333333333333333, \"#9c179e\"], [0.4444444444444444, \"#bd3786\"], [0.5555555555555556, \"#d8576b\"], [0.6666666666666666, \"#ed7953\"], [0.7777777777777778, \"#fb9f3a\"], [0.8888888888888888, \"#fdca26\"], [1.0, \"#f0f921\"]], \"type\": \"heatmapgl\"}], \"histogram\": [{\"marker\": {\"colorbar\": {\"outlinewidth\": 0, \"ticks\": \"\"}}, \"type\": \"histogram\"}], \"histogram2d\": [{\"colorbar\": {\"outlinewidth\": 0, \"ticks\": \"\"}, \"colorscale\": [[0.0, \"#0d0887\"], [0.1111111111111111, \"#46039f\"], [0.2222222222222222, \"#7201a8\"], [0.3333333333333333, \"#9c179e\"], [0.4444444444444444, \"#bd3786\"], [0.5555555555555556, \"#d8576b\"], [0.6666666666666666, \"#ed7953\"], [0.7777777777777778, \"#fb9f3a\"], [0.8888888888888888, \"#fdca26\"], [1.0, \"#f0f921\"]], \"type\": \"histogram2d\"}], \"histogram2dcontour\": [{\"colorbar\": {\"outlinewidth\": 0, \"ticks\": \"\"}, \"colorscale\": [[0.0, \"#0d0887\"], [0.1111111111111111, \"#46039f\"], [0.2222222222222222, \"#7201a8\"], [0.3333333333333333, \"#9c179e\"], [0.4444444444444444, \"#bd3786\"], [0.5555555555555556, \"#d8576b\"], [0.6666666666666666, \"#ed7953\"], [0.7777777777777778, \"#fb9f3a\"], [0.8888888888888888, \"#fdca26\"], [1.0, \"#f0f921\"]], \"type\": \"histogram2dcontour\"}], \"mesh3d\": [{\"colorbar\": {\"outlinewidth\": 0, \"ticks\": \"\"}, \"type\": \"mesh3d\"}], \"parcoords\": [{\"line\": {\"colorbar\": {\"outlinewidth\": 0, \"ticks\": \"\"}}, \"type\": \"parcoords\"}], \"pie\": [{\"automargin\": true, \"type\": \"pie\"}], \"scatter\": [{\"marker\": {\"colorbar\": {\"outlinewidth\": 0, \"ticks\": \"\"}}, \"type\": \"scatter\"}], \"scatter3d\": [{\"line\": {\"colorbar\": {\"outlinewidth\": 0, \"ticks\": \"\"}}, \"marker\": {\"colorbar\": {\"outlinewidth\": 0, \"ticks\": \"\"}}, \"type\": \"scatter3d\"}], \"scattercarpet\": [{\"marker\": {\"colorbar\": {\"outlinewidth\": 0, \"ticks\": \"\"}}, \"type\": \"scattercarpet\"}], \"scattergeo\": [{\"marker\": {\"colorbar\": {\"outlinewidth\": 0, \"ticks\": \"\"}}, \"type\": \"scattergeo\"}], \"scattergl\": [{\"marker\": {\"colorbar\": {\"outlinewidth\": 0, \"ticks\": \"\"}}, \"type\": \"scattergl\"}], \"scattermapbox\": [{\"marker\": {\"colorbar\": {\"outlinewidth\": 0, \"ticks\": \"\"}}, \"type\": \"scattermapbox\"}], \"scatterpolar\": [{\"marker\": {\"colorbar\": {\"outlinewidth\": 0, \"ticks\": \"\"}}, \"type\": \"scatterpolar\"}], \"scatterpolargl\": [{\"marker\": {\"colorbar\": {\"outlinewidth\": 0, \"ticks\": \"\"}}, \"type\": \"scatterpolargl\"}], \"scatterternary\": [{\"marker\": {\"colorbar\": {\"outlinewidth\": 0, \"ticks\": \"\"}}, \"type\": \"scatterternary\"}], \"surface\": [{\"colorbar\": {\"outlinewidth\": 0, \"ticks\": \"\"}, \"colorscale\": [[0.0, \"#0d0887\"], [0.1111111111111111, \"#46039f\"], [0.2222222222222222, \"#7201a8\"], [0.3333333333333333, \"#9c179e\"], [0.4444444444444444, \"#bd3786\"], [0.5555555555555556, \"#d8576b\"], [0.6666666666666666, \"#ed7953\"], [0.7777777777777778, \"#fb9f3a\"], [0.8888888888888888, \"#fdca26\"], [1.0, \"#f0f921\"]], \"type\": \"surface\"}], \"table\": [{\"cells\": {\"fill\": {\"color\": \"#EBF0F8\"}, \"line\": {\"color\": \"white\"}}, \"header\": {\"fill\": {\"color\": \"#C8D4E3\"}, \"line\": {\"color\": \"white\"}}, \"type\": \"table\"}]}, \"layout\": {\"annotationdefaults\": {\"arrowcolor\": \"#2a3f5f\", \"arrowhead\": 0, \"arrowwidth\": 1}, \"coloraxis\": {\"colorbar\": {\"outlinewidth\": 0, \"ticks\": \"\"}}, \"colorscale\": {\"diverging\": [[0, \"#8e0152\"], [0.1, \"#c51b7d\"], [0.2, \"#de77ae\"], [0.3, \"#f1b6da\"], [0.4, \"#fde0ef\"], [0.5, \"#f7f7f7\"], [0.6, \"#e6f5d0\"], [0.7, \"#b8e186\"], [0.8, \"#7fbc41\"], [0.9, \"#4d9221\"], [1, \"#276419\"]], \"sequential\": [[0.0, \"#0d0887\"], [0.1111111111111111, \"#46039f\"], [0.2222222222222222, \"#7201a8\"], [0.3333333333333333, \"#9c179e\"], [0.4444444444444444, \"#bd3786\"], [0.5555555555555556, \"#d8576b\"], [0.6666666666666666, \"#ed7953\"], [0.7777777777777778, \"#fb9f3a\"], [0.8888888888888888, \"#fdca26\"], [1.0, \"#f0f921\"]], \"sequentialminus\": [[0.0, \"#0d0887\"], [0.1111111111111111, \"#46039f\"], [0.2222222222222222, \"#7201a8\"], [0.3333333333333333, \"#9c179e\"], [0.4444444444444444, \"#bd3786\"], [0.5555555555555556, \"#d8576b\"], [0.6666666666666666, \"#ed7953\"], [0.7777777777777778, \"#fb9f3a\"], [0.8888888888888888, \"#fdca26\"], [1.0, \"#f0f921\"]]}, \"colorway\": [\"#636efa\", \"#EF553B\", \"#00cc96\", \"#ab63fa\", \"#FFA15A\", \"#19d3f3\", \"#FF6692\", \"#B6E880\", \"#FF97FF\", \"#FECB52\"], \"font\": {\"color\": \"#2a3f5f\"}, \"geo\": {\"bgcolor\": \"white\", \"lakecolor\": \"white\", \"landcolor\": \"#E5ECF6\", \"showlakes\": true, \"showland\": true, \"subunitcolor\": \"white\"}, \"hoverlabel\": {\"align\": \"left\"}, \"hovermode\": \"closest\", \"mapbox\": {\"style\": \"light\"}, \"paper_bgcolor\": \"white\", \"plot_bgcolor\": \"#E5ECF6\", \"polar\": {\"angularaxis\": {\"gridcolor\": \"white\", \"linecolor\": \"white\", \"ticks\": \"\"}, \"bgcolor\": \"#E5ECF6\", \"radialaxis\": {\"gridcolor\": \"white\", \"linecolor\": \"white\", \"ticks\": \"\"}}, \"scene\": {\"xaxis\": {\"backgroundcolor\": \"#E5ECF6\", \"gridcolor\": \"white\", \"gridwidth\": 2, \"linecolor\": \"white\", \"showbackground\": true, \"ticks\": \"\", \"zerolinecolor\": \"white\"}, \"yaxis\": {\"backgroundcolor\": \"#E5ECF6\", \"gridcolor\": \"white\", \"gridwidth\": 2, \"linecolor\": \"white\", \"showbackground\": true, \"ticks\": \"\", \"zerolinecolor\": \"white\"}, \"zaxis\": {\"backgroundcolor\": \"#E5ECF6\", \"gridcolor\": \"white\", \"gridwidth\": 2, \"linecolor\": \"white\", \"showbackground\": true, \"ticks\": \"\", \"zerolinecolor\": \"white\"}}, \"shapedefaults\": {\"line\": {\"color\": \"#2a3f5f\"}}, \"ternary\": {\"aaxis\": {\"gridcolor\": \"white\", \"linecolor\": \"white\", \"ticks\": \"\"}, \"baxis\": {\"gridcolor\": \"white\", \"linecolor\": \"white\", \"ticks\": \"\"}, \"bgcolor\": \"#E5ECF6\", \"caxis\": {\"gridcolor\": \"white\", \"linecolor\": \"white\", \"ticks\": \"\"}}, \"title\": {\"x\": 0.05}, \"xaxis\": {\"automargin\": true, \"gridcolor\": \"white\", \"linecolor\": \"white\", \"ticks\": \"\", \"title\": {\"standoff\": 15}, \"zerolinecolor\": \"white\", \"zerolinewidth\": 2}, \"yaxis\": {\"automargin\": true, \"gridcolor\": \"white\", \"linecolor\": \"white\", \"ticks\": \"\", \"title\": {\"standoff\": 15}, \"zerolinecolor\": \"white\", \"zerolinewidth\": 2}}}, \"width\": 450, \"xaxis\": {\"anchor\": \"y\", \"domain\": [0.0, 1.0], \"gridcolor\": \"rgba(0,0,0,0.1)\", \"linecolor\": \"rgba(0,0,0,1)\", \"mirror\": true, \"showgrid\": true, \"showline\": true, \"showticklabels\": true, \"tickfont\": {\"size\": 18}, \"tickmode\": \"array\", \"ticks\": \"outside\", \"title\": {\"font\": {\"size\": 20}, \"text\": \"Model Size\"}}, \"yaxis\": {\"anchor\": \"x\", \"domain\": [0.0, 1.0], \"gridcolor\": \"rgba(0,0,0,0.1)\", \"linecolor\": \"rgba(0,0,0,1)\", \"mirror\": true, \"showgrid\": true, \"showline\": true, \"showticklabels\": true, \"tickfont\": {\"size\": 18}, \"tickmode\": \"array\", \"ticks\": \"outside\", \"title\": {\"font\": {\"size\": 20}, \"text\": \"Test Accuracy\"}}},\n",
       "                        {\"responsive\": true}\n",
       "                    ).then(function(){\n",
       "                            \n",
       "var gd = document.getElementById('96c9c63d-cebe-472a-bfa1-fc28cd75397b');\n",
       "var x = new MutationObserver(function (mutations, observer) {{\n",
       "        var display = window.getComputedStyle(gd).display;\n",
       "        if (!display || display === 'none') {{\n",
       "            console.log([gd, 'removed!']);\n",
       "            Plotly.purge(gd);\n",
       "            observer.disconnect();\n",
       "        }}\n",
       "}});\n",
       "\n",
       "// Listen for the removal of the full notebook cells\n",
       "var notebookContainer = gd.closest('#notebook-container');\n",
       "if (notebookContainer) {{\n",
       "    x.observe(notebookContainer, {childList: true});\n",
       "}}\n",
       "\n",
       "// Listen for the clearing of the current output cell\n",
       "var outputEl = gd.closest('.output');\n",
       "if (outputEl) {{\n",
       "    x.observe(outputEl, {childList: true});\n",
       "}}\n",
       "\n",
       "                        })\n",
       "                };\n",
       "                });\n",
       "            </script>\n",
       "        </div>"
      ]
     },
     "metadata": {},
     "output_type": "display_data"
    }
   ],
   "source": [
    "plot_res(root_dir,attack_method='FAB')"
   ]
  }
 ],
 "metadata": {
  "kernelspec": {
   "display_name": "al",
   "language": "python",
   "name": "al"
  },
  "language_info": {
   "codemirror_mode": {
    "name": "ipython",
    "version": 3
   },
   "file_extension": ".py",
   "mimetype": "text/x-python",
   "name": "python",
   "nbconvert_exporter": "python",
   "pygments_lexer": "ipython3",
   "version": "3.7.7"
  },
  "latex_envs": {
   "LaTeX_envs_menu_present": true,
   "autoclose": false,
   "autocomplete": true,
   "bibliofile": "biblio.bib",
   "cite_by": "apalike",
   "current_citInitial": 1,
   "eqLabelWithNumbers": true,
   "eqNumInitial": 1,
   "hotkeys": {
    "equation": "Ctrl-E",
    "itemize": "Ctrl-I"
   },
   "labels_anchors": false,
   "latex_user_defs": false,
   "report_style_numbering": false,
   "user_envs_cfg": false
  },
  "toc": {
   "base_numbering": 1,
   "nav_menu": {},
   "number_sections": true,
   "sideBar": true,
   "skip_h1_title": false,
   "title_cell": "Table of Contents",
   "title_sidebar": "Contents",
   "toc_cell": false,
   "toc_position": {},
   "toc_section_display": true,
   "toc_window_display": false
  },
  "varInspector": {
   "cols": {
    "lenName": 16,
    "lenType": 16,
    "lenVar": 40
   },
   "kernels_config": {
    "python": {
     "delete_cmd_postfix": "",
     "delete_cmd_prefix": "del ",
     "library": "var_list.py",
     "varRefreshCmd": "print(var_dic_list())"
    },
    "r": {
     "delete_cmd_postfix": ") ",
     "delete_cmd_prefix": "rm(",
     "library": "var_list.r",
     "varRefreshCmd": "cat(var_dic_list()) "
    }
   },
   "types_to_exclude": [
    "module",
    "function",
    "builtin_function_or_method",
    "instance",
    "_Feature"
   ],
   "window_display": false
  }
 },
 "nbformat": 4,
 "nbformat_minor": 4
}
